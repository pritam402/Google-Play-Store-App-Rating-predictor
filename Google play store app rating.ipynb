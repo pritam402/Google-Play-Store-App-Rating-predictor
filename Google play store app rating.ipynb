{
 "cells": [
  {
   "cell_type": "code",
   "execution_count": 103,
   "metadata": {},
   "outputs": [],
   "source": [
    "import pandas as pd\n",
    "import numpy as np\n",
    "from tqdm import tqdm"
   ]
  },
  {
   "cell_type": "code",
   "execution_count": 104,
   "metadata": {},
   "outputs": [
    {
     "name": "stderr",
     "output_type": "stream",
     "text": [
      "C:\\Users\\Shakib\\Anaconda3\\lib\\site-packages\\IPython\\core\\interactiveshell.py:3020: DtypeWarning: Columns (2,3,11,12,13) have mixed types. Specify dtype option on import or set low_memory=False.\n",
      "  interactivity=interactivity, compiler=compiler, result=result)\n"
     ]
    },
    {
     "data": {
      "text/html": [
       "<div>\n",
       "<style scoped>\n",
       "    .dataframe tbody tr th:only-of-type {\n",
       "        vertical-align: middle;\n",
       "    }\n",
       "\n",
       "    .dataframe tbody tr th {\n",
       "        vertical-align: top;\n",
       "    }\n",
       "\n",
       "    .dataframe thead th {\n",
       "        text-align: right;\n",
       "    }\n",
       "</style>\n",
       "<table border=\"1\" class=\"dataframe\">\n",
       "  <thead>\n",
       "    <tr style=\"text-align: right;\">\n",
       "      <th></th>\n",
       "      <th>App Name</th>\n",
       "      <th>Category</th>\n",
       "      <th>Rating</th>\n",
       "      <th>Reviews</th>\n",
       "      <th>Installs</th>\n",
       "      <th>Size</th>\n",
       "      <th>Price</th>\n",
       "      <th>Content Rating</th>\n",
       "      <th>Last Updated</th>\n",
       "      <th>Minimum Version</th>\n",
       "      <th>Latest Version</th>\n",
       "      <th>Unnamed: 11</th>\n",
       "      <th>Unnamed: 12</th>\n",
       "      <th>Unnamed: 13</th>\n",
       "      <th>Unnamed: 14</th>\n",
       "    </tr>\n",
       "  </thead>\n",
       "  <tbody>\n",
       "    <tr>\n",
       "      <th>0</th>\n",
       "      <td>DoorDash - Food Delivery</td>\n",
       "      <td>FOOD_AND_DRINK</td>\n",
       "      <td>4.548561573</td>\n",
       "      <td>305034</td>\n",
       "      <td>5,000,000+</td>\n",
       "      <td>Varies with device</td>\n",
       "      <td>0</td>\n",
       "      <td>Everyone</td>\n",
       "      <td>March 29, 2019</td>\n",
       "      <td>Varies with device</td>\n",
       "      <td>Varies with device</td>\n",
       "      <td>NaN</td>\n",
       "      <td>NaN</td>\n",
       "      <td>NaN</td>\n",
       "      <td>NaN</td>\n",
       "    </tr>\n",
       "    <tr>\n",
       "      <th>1</th>\n",
       "      <td>TripAdvisor Hotels Flights Restaurants Attract...</td>\n",
       "      <td>TRAVEL_AND_LOCAL</td>\n",
       "      <td>4.400671482</td>\n",
       "      <td>1.20792e+06</td>\n",
       "      <td>100,000,000+</td>\n",
       "      <td>Varies with device</td>\n",
       "      <td>0</td>\n",
       "      <td>Everyone</td>\n",
       "      <td>March 29, 2019</td>\n",
       "      <td>Varies with device</td>\n",
       "      <td>Varies with device</td>\n",
       "      <td>NaN</td>\n",
       "      <td>NaN</td>\n",
       "      <td>NaN</td>\n",
       "      <td>NaN</td>\n",
       "    </tr>\n",
       "    <tr>\n",
       "      <th>2</th>\n",
       "      <td>Peapod</td>\n",
       "      <td>SHOPPING</td>\n",
       "      <td>3.656329393</td>\n",
       "      <td>1967</td>\n",
       "      <td>100,000+</td>\n",
       "      <td>1.4M</td>\n",
       "      <td>0</td>\n",
       "      <td>Everyone</td>\n",
       "      <td>September 20, 2018</td>\n",
       "      <td>5.0 and up</td>\n",
       "      <td>2.2.0</td>\n",
       "      <td>NaN</td>\n",
       "      <td>NaN</td>\n",
       "      <td>NaN</td>\n",
       "      <td>NaN</td>\n",
       "    </tr>\n",
       "    <tr>\n",
       "      <th>3</th>\n",
       "      <td>foodpanda - Local Food Delivery</td>\n",
       "      <td>FOOD_AND_DRINK</td>\n",
       "      <td>4.107232571</td>\n",
       "      <td>389154</td>\n",
       "      <td>10,000,000+</td>\n",
       "      <td>16M</td>\n",
       "      <td>0</td>\n",
       "      <td>Everyone</td>\n",
       "      <td>March 22, 2019</td>\n",
       "      <td>4.2 and up</td>\n",
       "      <td>4.18.2</td>\n",
       "      <td>NaN</td>\n",
       "      <td>NaN</td>\n",
       "      <td>NaN</td>\n",
       "      <td>NaN</td>\n",
       "    </tr>\n",
       "    <tr>\n",
       "      <th>4</th>\n",
       "      <td>My CookBook Pro (Ad Free)</td>\n",
       "      <td>FOOD_AND_DRINK</td>\n",
       "      <td>4.647752285</td>\n",
       "      <td>2291</td>\n",
       "      <td>10,000+</td>\n",
       "      <td>Varies with device</td>\n",
       "      <td>$5.99</td>\n",
       "      <td>Everyone</td>\n",
       "      <td>April 1, 2019</td>\n",
       "      <td>Varies with device</td>\n",
       "      <td>Varies with device</td>\n",
       "      <td>NaN</td>\n",
       "      <td>NaN</td>\n",
       "      <td>NaN</td>\n",
       "      <td>NaN</td>\n",
       "    </tr>\n",
       "    <tr>\n",
       "      <th>5</th>\n",
       "      <td>Safeway Online Shopping</td>\n",
       "      <td>FOOD_AND_DRINK</td>\n",
       "      <td>3.82532239</td>\n",
       "      <td>2559</td>\n",
       "      <td>100,000+</td>\n",
       "      <td>23M</td>\n",
       "      <td>0</td>\n",
       "      <td>Everyone</td>\n",
       "      <td>March 29, 2019</td>\n",
       "      <td>5.0 and up</td>\n",
       "      <td>7.6.0</td>\n",
       "      <td>NaN</td>\n",
       "      <td>NaN</td>\n",
       "      <td>NaN</td>\n",
       "      <td>NaN</td>\n",
       "    </tr>\n",
       "  </tbody>\n",
       "</table>\n",
       "</div>"
      ],
      "text/plain": [
       "                                            App Name          Category  \\\n",
       "0                           DoorDash - Food Delivery    FOOD_AND_DRINK   \n",
       "1  TripAdvisor Hotels Flights Restaurants Attract...  TRAVEL_AND_LOCAL   \n",
       "2                                             Peapod          SHOPPING   \n",
       "3                    foodpanda - Local Food Delivery    FOOD_AND_DRINK   \n",
       "4                          My CookBook Pro (Ad Free)    FOOD_AND_DRINK   \n",
       "5                            Safeway Online Shopping    FOOD_AND_DRINK   \n",
       "\n",
       "        Rating      Reviews      Installs                Size  Price  \\\n",
       "0  4.548561573       305034    5,000,000+  Varies with device      0   \n",
       "1  4.400671482  1.20792e+06  100,000,000+  Varies with device      0   \n",
       "2  3.656329393         1967      100,000+                1.4M      0   \n",
       "3  4.107232571       389154   10,000,000+                 16M      0   \n",
       "4  4.647752285         2291       10,000+  Varies with device  $5.99   \n",
       "5   3.82532239         2559      100,000+                 23M      0   \n",
       "\n",
       "  Content Rating        Last Updated     Minimum Version      Latest Version  \\\n",
       "0       Everyone      March 29, 2019  Varies with device  Varies with device   \n",
       "1       Everyone      March 29, 2019  Varies with device  Varies with device   \n",
       "2       Everyone  September 20, 2018          5.0 and up               2.2.0   \n",
       "3       Everyone      March 22, 2019          4.2 and up              4.18.2   \n",
       "4       Everyone       April 1, 2019  Varies with device  Varies with device   \n",
       "5       Everyone      March 29, 2019          5.0 and up               7.6.0   \n",
       "\n",
       "  Unnamed: 11 Unnamed: 12 Unnamed: 13  Unnamed: 14  \n",
       "0         NaN         NaN         NaN          NaN  \n",
       "1         NaN         NaN         NaN          NaN  \n",
       "2         NaN         NaN         NaN          NaN  \n",
       "3         NaN         NaN         NaN          NaN  \n",
       "4         NaN         NaN         NaN          NaN  \n",
       "5         NaN         NaN         NaN          NaN  "
      ]
     },
     "execution_count": 104,
     "metadata": {},
     "output_type": "execute_result"
    }
   ],
   "source": [
    "data = pd.read_csv(\"Google-Playstore-Full.csv\")\n",
    "data.head(6)"
   ]
  },
  {
   "cell_type": "code",
   "execution_count": 105,
   "metadata": {},
   "outputs": [
    {
     "data": {
      "text/plain": [
       "(267052, 15)"
      ]
     },
     "execution_count": 105,
     "metadata": {},
     "output_type": "execute_result"
    }
   ],
   "source": [
    "data.shape"
   ]
  },
  {
   "cell_type": "code",
   "execution_count": 106,
   "metadata": {},
   "outputs": [
    {
     "data": {
      "text/plain": [
       "Index(['App Name', 'Category', 'Rating', 'Reviews', 'Installs', 'Size',\n",
       "       'Price', 'Content Rating', 'Last Updated', 'Minimum Version',\n",
       "       'Latest Version', 'Unnamed: 11', 'Unnamed: 12', 'Unnamed: 13',\n",
       "       'Unnamed: 14'],\n",
       "      dtype='object')"
      ]
     },
     "execution_count": 106,
     "metadata": {},
     "output_type": "execute_result"
    }
   ],
   "source": [
    "data.columns"
   ]
  },
  {
   "cell_type": "code",
   "execution_count": 107,
   "metadata": {},
   "outputs": [],
   "source": [
    "data.drop(columns={'Unnamed: 11', 'Unnamed: 12', 'Unnamed: 13','Unnamed: 14'},inplace = True)  #removing the empty columns!"
   ]
  },
  {
   "cell_type": "code",
   "execution_count": 108,
   "metadata": {},
   "outputs": [
    {
     "data": {
      "text/html": [
       "<div>\n",
       "<style scoped>\n",
       "    .dataframe tbody tr th:only-of-type {\n",
       "        vertical-align: middle;\n",
       "    }\n",
       "\n",
       "    .dataframe tbody tr th {\n",
       "        vertical-align: top;\n",
       "    }\n",
       "\n",
       "    .dataframe thead th {\n",
       "        text-align: right;\n",
       "    }\n",
       "</style>\n",
       "<table border=\"1\" class=\"dataframe\">\n",
       "  <thead>\n",
       "    <tr style=\"text-align: right;\">\n",
       "      <th></th>\n",
       "      <th>Category</th>\n",
       "      <th>Rating</th>\n",
       "      <th>Reviews</th>\n",
       "      <th>Installs</th>\n",
       "      <th>Size</th>\n",
       "      <th>Price</th>\n",
       "      <th>Content Rating</th>\n",
       "      <th>Last Updated</th>\n",
       "      <th>Minimum Version</th>\n",
       "      <th>Latest Version</th>\n",
       "    </tr>\n",
       "  </thead>\n",
       "  <tbody>\n",
       "    <tr>\n",
       "      <th>0</th>\n",
       "      <td>FOOD_AND_DRINK</td>\n",
       "      <td>4.548561573</td>\n",
       "      <td>305034</td>\n",
       "      <td>5,000,000+</td>\n",
       "      <td>Varies with device</td>\n",
       "      <td>0</td>\n",
       "      <td>Everyone</td>\n",
       "      <td>March 29, 2019</td>\n",
       "      <td>Varies with device</td>\n",
       "      <td>Varies with device</td>\n",
       "    </tr>\n",
       "    <tr>\n",
       "      <th>1</th>\n",
       "      <td>TRAVEL_AND_LOCAL</td>\n",
       "      <td>4.400671482</td>\n",
       "      <td>1.20792e+06</td>\n",
       "      <td>100,000,000+</td>\n",
       "      <td>Varies with device</td>\n",
       "      <td>0</td>\n",
       "      <td>Everyone</td>\n",
       "      <td>March 29, 2019</td>\n",
       "      <td>Varies with device</td>\n",
       "      <td>Varies with device</td>\n",
       "    </tr>\n",
       "    <tr>\n",
       "      <th>2</th>\n",
       "      <td>SHOPPING</td>\n",
       "      <td>3.656329393</td>\n",
       "      <td>1967</td>\n",
       "      <td>100,000+</td>\n",
       "      <td>1.4M</td>\n",
       "      <td>0</td>\n",
       "      <td>Everyone</td>\n",
       "      <td>September 20, 2018</td>\n",
       "      <td>5.0 and up</td>\n",
       "      <td>2.2.0</td>\n",
       "    </tr>\n",
       "    <tr>\n",
       "      <th>3</th>\n",
       "      <td>FOOD_AND_DRINK</td>\n",
       "      <td>4.107232571</td>\n",
       "      <td>389154</td>\n",
       "      <td>10,000,000+</td>\n",
       "      <td>16M</td>\n",
       "      <td>0</td>\n",
       "      <td>Everyone</td>\n",
       "      <td>March 22, 2019</td>\n",
       "      <td>4.2 and up</td>\n",
       "      <td>4.18.2</td>\n",
       "    </tr>\n",
       "    <tr>\n",
       "      <th>4</th>\n",
       "      <td>FOOD_AND_DRINK</td>\n",
       "      <td>4.647752285</td>\n",
       "      <td>2291</td>\n",
       "      <td>10,000+</td>\n",
       "      <td>Varies with device</td>\n",
       "      <td>$5.99</td>\n",
       "      <td>Everyone</td>\n",
       "      <td>April 1, 2019</td>\n",
       "      <td>Varies with device</td>\n",
       "      <td>Varies with device</td>\n",
       "    </tr>\n",
       "  </tbody>\n",
       "</table>\n",
       "</div>"
      ],
      "text/plain": [
       "           Category       Rating      Reviews      Installs  \\\n",
       "0    FOOD_AND_DRINK  4.548561573       305034    5,000,000+   \n",
       "1  TRAVEL_AND_LOCAL  4.400671482  1.20792e+06  100,000,000+   \n",
       "2          SHOPPING  3.656329393         1967      100,000+   \n",
       "3    FOOD_AND_DRINK  4.107232571       389154   10,000,000+   \n",
       "4    FOOD_AND_DRINK  4.647752285         2291       10,000+   \n",
       "\n",
       "                 Size  Price Content Rating        Last Updated  \\\n",
       "0  Varies with device      0       Everyone      March 29, 2019   \n",
       "1  Varies with device      0       Everyone      March 29, 2019   \n",
       "2                1.4M      0       Everyone  September 20, 2018   \n",
       "3                 16M      0       Everyone      March 22, 2019   \n",
       "4  Varies with device  $5.99       Everyone       April 1, 2019   \n",
       "\n",
       "      Minimum Version      Latest Version  \n",
       "0  Varies with device  Varies with device  \n",
       "1  Varies with device  Varies with device  \n",
       "2          5.0 and up               2.2.0  \n",
       "3          4.2 and up              4.18.2  \n",
       "4  Varies with device  Varies with device  "
      ]
     },
     "execution_count": 108,
     "metadata": {},
     "output_type": "execute_result"
    }
   ],
   "source": [
    "data.drop(columns= {'App Name'},inplace = True)   #removing the application name as name is not that much important in case of ratting.\n",
    "data.head()"
   ]
  },
  {
   "cell_type": "code",
   "execution_count": 109,
   "metadata": {
    "scrolled": false
   },
   "outputs": [
    {
     "data": {
      "text/plain": [
       "Varies with device    11726\n",
       "11M                    7312\n",
       "12M                    6362\n",
       "13M                    5569\n",
       "14M                    5266\n",
       "Name: Size, dtype: int64"
      ]
     },
     "execution_count": 109,
     "metadata": {},
     "output_type": "execute_result"
    }
   ],
   "source": [
    "data['Size'].value_counts().head()"
   ]
  },
  {
   "cell_type": "code",
   "execution_count": 110,
   "metadata": {},
   "outputs": [],
   "source": [
    "list_of_values_in_size_column = []\n",
    "list_of_values_in_size_column = data['Size'].values"
   ]
  },
  {
   "cell_type": "code",
   "execution_count": 111,
   "metadata": {},
   "outputs": [],
   "source": [
    "# As all the values in the column size are string. We need to convert them to \n",
    "# integer data. So we will check the last element in all strings in the data and\n",
    "# if they have \"k\" in their last place they are converted to an integer and if they\n",
    "# have \"m\" in their last place so they are multiplied by 1024 to convert\n",
    "# them to kilobyte and then convert them to integer .if not \"k\" and \"m\" they \n",
    "# are written as \"0\" which will be eliminated later."
   ]
  },
  {
   "cell_type": "code",
   "execution_count": 112,
   "metadata": {},
   "outputs": [
    {
     "data": {
      "text/plain": [
       "267052"
      ]
     },
     "execution_count": 112,
     "metadata": {},
     "output_type": "execute_result"
    }
   ],
   "source": [
    "len(list_of_values_in_size_column)"
   ]
  },
  {
   "cell_type": "code",
   "execution_count": 113,
   "metadata": {},
   "outputs": [],
   "source": [
    "corrected_list_of_values_in_size_column = []                       #Convertinv all the values to kilobyte or 0.   \n",
    "for i in list_of_values_in_size_column:\n",
    "    if(i[-1] == \"k\"):\n",
    "        integer=i[:-1]\n",
    "        integer = integer.replace(',','')\n",
    "        corrected_list_of_values_in_size_column.append(float(integer))\n",
    "    elif (i[-1] == \"M\"):\n",
    "        integer=i[:-1]\n",
    "        integer = integer.replace(',','')\n",
    "        corrected_list_of_values_in_size_column.append(float(integer)*1024)\n",
    "    else:\n",
    "        corrected_list_of_values_in_size_column.append(0)          #bad data is converted to 0 which will be eleminated later."
   ]
  },
  {
   "cell_type": "code",
   "execution_count": 114,
   "metadata": {},
   "outputs": [],
   "source": [
    "# Adding the new filtered and modified data to our table and filtering all the removable data. \n",
    "data['size(Kb)'] = corrected_list_of_values_in_size_column\n",
    "data = data[data['size(Kb)'] != 0]           "
   ]
  },
  {
   "cell_type": "code",
   "execution_count": 115,
   "metadata": {},
   "outputs": [],
   "source": [
    "# Removing the (mixed_type_data) size column \n",
    "data.drop(columns={'Size'},inplace=True)   "
   ]
  },
  {
   "cell_type": "code",
   "execution_count": 116,
   "metadata": {
    "scrolled": true
   },
   "outputs": [
    {
     "data": {
      "text/html": [
       "<div>\n",
       "<style scoped>\n",
       "    .dataframe tbody tr th:only-of-type {\n",
       "        vertical-align: middle;\n",
       "    }\n",
       "\n",
       "    .dataframe tbody tr th {\n",
       "        vertical-align: top;\n",
       "    }\n",
       "\n",
       "    .dataframe thead th {\n",
       "        text-align: right;\n",
       "    }\n",
       "</style>\n",
       "<table border=\"1\" class=\"dataframe\">\n",
       "  <thead>\n",
       "    <tr style=\"text-align: right;\">\n",
       "      <th></th>\n",
       "      <th>Category</th>\n",
       "      <th>Rating</th>\n",
       "      <th>Reviews</th>\n",
       "      <th>Installs</th>\n",
       "      <th>Price</th>\n",
       "      <th>Content Rating</th>\n",
       "      <th>Last Updated</th>\n",
       "      <th>Minimum Version</th>\n",
       "      <th>Latest Version</th>\n",
       "      <th>size(Kb)</th>\n",
       "    </tr>\n",
       "  </thead>\n",
       "  <tbody>\n",
       "    <tr>\n",
       "      <th>2</th>\n",
       "      <td>SHOPPING</td>\n",
       "      <td>3.656329393</td>\n",
       "      <td>1967</td>\n",
       "      <td>100,000+</td>\n",
       "      <td>0</td>\n",
       "      <td>Everyone</td>\n",
       "      <td>September 20, 2018</td>\n",
       "      <td>5.0 and up</td>\n",
       "      <td>2.2.0</td>\n",
       "      <td>1433.6</td>\n",
       "    </tr>\n",
       "    <tr>\n",
       "      <th>3</th>\n",
       "      <td>FOOD_AND_DRINK</td>\n",
       "      <td>4.107232571</td>\n",
       "      <td>389154</td>\n",
       "      <td>10,000,000+</td>\n",
       "      <td>0</td>\n",
       "      <td>Everyone</td>\n",
       "      <td>March 22, 2019</td>\n",
       "      <td>4.2 and up</td>\n",
       "      <td>4.18.2</td>\n",
       "      <td>16384.0</td>\n",
       "    </tr>\n",
       "    <tr>\n",
       "      <th>5</th>\n",
       "      <td>FOOD_AND_DRINK</td>\n",
       "      <td>3.82532239</td>\n",
       "      <td>2559</td>\n",
       "      <td>100,000+</td>\n",
       "      <td>0</td>\n",
       "      <td>Everyone</td>\n",
       "      <td>March 29, 2019</td>\n",
       "      <td>5.0 and up</td>\n",
       "      <td>7.6.0</td>\n",
       "      <td>23552.0</td>\n",
       "    </tr>\n",
       "    <tr>\n",
       "      <th>8</th>\n",
       "      <td>TRAVEL_AND_LOCAL</td>\n",
       "      <td>3.811764717</td>\n",
       "      <td>85</td>\n",
       "      <td>10,000+</td>\n",
       "      <td>0</td>\n",
       "      <td>Everyone</td>\n",
       "      <td>February 10, 2019</td>\n",
       "      <td>4.3 and up</td>\n",
       "      <td>2.4</td>\n",
       "      <td>4198.4</td>\n",
       "    </tr>\n",
       "    <tr>\n",
       "      <th>12</th>\n",
       "      <td>LIFESTYLE</td>\n",
       "      <td>3.213527918</td>\n",
       "      <td>754</td>\n",
       "      <td>100,000+</td>\n",
       "      <td>0</td>\n",
       "      <td>Everyone</td>\n",
       "      <td>March 27, 2019</td>\n",
       "      <td>5.0 and up</td>\n",
       "      <td>6.7</td>\n",
       "      <td>39936.0</td>\n",
       "    </tr>\n",
       "  </tbody>\n",
       "</table>\n",
       "</div>"
      ],
      "text/plain": [
       "            Category       Rating Reviews     Installs Price Content Rating  \\\n",
       "2           SHOPPING  3.656329393    1967     100,000+     0       Everyone   \n",
       "3     FOOD_AND_DRINK  4.107232571  389154  10,000,000+     0       Everyone   \n",
       "5     FOOD_AND_DRINK   3.82532239    2559     100,000+     0       Everyone   \n",
       "8   TRAVEL_AND_LOCAL  3.811764717      85      10,000+     0       Everyone   \n",
       "12         LIFESTYLE  3.213527918     754     100,000+     0       Everyone   \n",
       "\n",
       "          Last Updated Minimum Version Latest Version  size(Kb)  \n",
       "2   September 20, 2018      5.0 and up          2.2.0    1433.6  \n",
       "3       March 22, 2019      4.2 and up         4.18.2   16384.0  \n",
       "5       March 29, 2019      5.0 and up          7.6.0   23552.0  \n",
       "8    February 10, 2019      4.3 and up            2.4    4198.4  \n",
       "12      March 27, 2019      5.0 and up            6.7   39936.0  "
      ]
     },
     "execution_count": 116,
     "metadata": {},
     "output_type": "execute_result"
    }
   ],
   "source": [
    "data.head()"
   ]
  },
  {
   "cell_type": "code",
   "execution_count": 117,
   "metadata": {},
   "outputs": [],
   "source": [
    "# Removing the 'Latest Version' and 'Last Updated' column as Every application has their own way of upgrade scall\n",
    "# hense we cannot use this data in compareson.\n",
    "data.drop(columns={'Latest Version'},inplace = True)\n",
    "data.drop(columns={'Last Updated'},inplace=True)"
   ]
  },
  {
   "cell_type": "code",
   "execution_count": 118,
   "metadata": {},
   "outputs": [
    {
     "data": {
      "text/html": [
       "<div>\n",
       "<style scoped>\n",
       "    .dataframe tbody tr th:only-of-type {\n",
       "        vertical-align: middle;\n",
       "    }\n",
       "\n",
       "    .dataframe tbody tr th {\n",
       "        vertical-align: top;\n",
       "    }\n",
       "\n",
       "    .dataframe thead th {\n",
       "        text-align: right;\n",
       "    }\n",
       "</style>\n",
       "<table border=\"1\" class=\"dataframe\">\n",
       "  <thead>\n",
       "    <tr style=\"text-align: right;\">\n",
       "      <th></th>\n",
       "      <th>Category</th>\n",
       "      <th>Rating</th>\n",
       "      <th>Reviews</th>\n",
       "      <th>Installs</th>\n",
       "      <th>Price</th>\n",
       "      <th>Content Rating</th>\n",
       "      <th>Minimum Version</th>\n",
       "      <th>size(Kb)</th>\n",
       "    </tr>\n",
       "  </thead>\n",
       "  <tbody>\n",
       "    <tr>\n",
       "      <th>2</th>\n",
       "      <td>SHOPPING</td>\n",
       "      <td>3.656329393</td>\n",
       "      <td>1967</td>\n",
       "      <td>100,000+</td>\n",
       "      <td>0</td>\n",
       "      <td>Everyone</td>\n",
       "      <td>5.0 and up</td>\n",
       "      <td>1433.6</td>\n",
       "    </tr>\n",
       "    <tr>\n",
       "      <th>3</th>\n",
       "      <td>FOOD_AND_DRINK</td>\n",
       "      <td>4.107232571</td>\n",
       "      <td>389154</td>\n",
       "      <td>10,000,000+</td>\n",
       "      <td>0</td>\n",
       "      <td>Everyone</td>\n",
       "      <td>4.2 and up</td>\n",
       "      <td>16384.0</td>\n",
       "    </tr>\n",
       "    <tr>\n",
       "      <th>5</th>\n",
       "      <td>FOOD_AND_DRINK</td>\n",
       "      <td>3.82532239</td>\n",
       "      <td>2559</td>\n",
       "      <td>100,000+</td>\n",
       "      <td>0</td>\n",
       "      <td>Everyone</td>\n",
       "      <td>5.0 and up</td>\n",
       "      <td>23552.0</td>\n",
       "    </tr>\n",
       "    <tr>\n",
       "      <th>8</th>\n",
       "      <td>TRAVEL_AND_LOCAL</td>\n",
       "      <td>3.811764717</td>\n",
       "      <td>85</td>\n",
       "      <td>10,000+</td>\n",
       "      <td>0</td>\n",
       "      <td>Everyone</td>\n",
       "      <td>4.3 and up</td>\n",
       "      <td>4198.4</td>\n",
       "    </tr>\n",
       "    <tr>\n",
       "      <th>12</th>\n",
       "      <td>LIFESTYLE</td>\n",
       "      <td>3.213527918</td>\n",
       "      <td>754</td>\n",
       "      <td>100,000+</td>\n",
       "      <td>0</td>\n",
       "      <td>Everyone</td>\n",
       "      <td>5.0 and up</td>\n",
       "      <td>39936.0</td>\n",
       "    </tr>\n",
       "  </tbody>\n",
       "</table>\n",
       "</div>"
      ],
      "text/plain": [
       "            Category       Rating Reviews     Installs Price Content Rating  \\\n",
       "2           SHOPPING  3.656329393    1967     100,000+     0       Everyone   \n",
       "3     FOOD_AND_DRINK  4.107232571  389154  10,000,000+     0       Everyone   \n",
       "5     FOOD_AND_DRINK   3.82532239    2559     100,000+     0       Everyone   \n",
       "8   TRAVEL_AND_LOCAL  3.811764717      85      10,000+     0       Everyone   \n",
       "12         LIFESTYLE  3.213527918     754     100,000+     0       Everyone   \n",
       "\n",
       "   Minimum Version  size(Kb)  \n",
       "2       5.0 and up    1433.6  \n",
       "3       4.2 and up   16384.0  \n",
       "5       5.0 and up   23552.0  \n",
       "8       4.3 and up    4198.4  \n",
       "12      5.0 and up   39936.0  "
      ]
     },
     "execution_count": 118,
     "metadata": {},
     "output_type": "execute_result"
    }
   ],
   "source": [
    "data.head(5)"
   ]
  },
  {
   "cell_type": "code",
   "execution_count": 119,
   "metadata": {},
   "outputs": [
    {
     "data": {
      "text/plain": [
       "Everyone           231227\n",
       "Teen                16436\n",
       "Everyone 10+         4295\n",
       "Mature 17+           3305\n",
       "Unrated                33\n",
       "Adults only 18+        12\n",
       "Name: Content Rating, dtype: int64"
      ]
     },
     "execution_count": 119,
     "metadata": {},
     "output_type": "execute_result"
    }
   ],
   "source": [
    "data['Content Rating'].value_counts()"
   ]
  },
  {
   "cell_type": "code",
   "execution_count": 120,
   "metadata": {},
   "outputs": [],
   "source": [
    "# It  is clear from the above block that the data we are working with is \n",
    "# biased and we know that this biased data will hamper our prediction \n",
    "# hense we will be removing all the others except everyone row, resulting in\n",
    "# removing the biases hense then we will remove the column as this will \n",
    "# possess only one type of data"
   ]
  },
  {
   "cell_type": "code",
   "execution_count": 121,
   "metadata": {},
   "outputs": [],
   "source": [
    "data = data[data['Content Rating']==\"Everyone\"]\n",
    "data.drop(columns={'Content Rating'},inplace = True)"
   ]
  },
  {
   "cell_type": "raw",
   "metadata": {},
   "source": [
    "data = data[data['Content Rating']==\"Everyone\"]\n",
    "data.drop(columns={'Content Rating'},inplace = True)"
   ]
  },
  {
   "cell_type": "code",
   "execution_count": 122,
   "metadata": {},
   "outputs": [
    {
     "data": {
      "text/html": [
       "<div>\n",
       "<style scoped>\n",
       "    .dataframe tbody tr th:only-of-type {\n",
       "        vertical-align: middle;\n",
       "    }\n",
       "\n",
       "    .dataframe tbody tr th {\n",
       "        vertical-align: top;\n",
       "    }\n",
       "\n",
       "    .dataframe thead th {\n",
       "        text-align: right;\n",
       "    }\n",
       "</style>\n",
       "<table border=\"1\" class=\"dataframe\">\n",
       "  <thead>\n",
       "    <tr style=\"text-align: right;\">\n",
       "      <th></th>\n",
       "      <th>Category</th>\n",
       "      <th>Rating</th>\n",
       "      <th>Reviews</th>\n",
       "      <th>Installs</th>\n",
       "      <th>Price</th>\n",
       "      <th>Minimum Version</th>\n",
       "      <th>size(Kb)</th>\n",
       "    </tr>\n",
       "  </thead>\n",
       "  <tbody>\n",
       "    <tr>\n",
       "      <th>2</th>\n",
       "      <td>SHOPPING</td>\n",
       "      <td>3.656329393</td>\n",
       "      <td>1967</td>\n",
       "      <td>100,000+</td>\n",
       "      <td>0</td>\n",
       "      <td>5.0 and up</td>\n",
       "      <td>1433.6</td>\n",
       "    </tr>\n",
       "    <tr>\n",
       "      <th>3</th>\n",
       "      <td>FOOD_AND_DRINK</td>\n",
       "      <td>4.107232571</td>\n",
       "      <td>389154</td>\n",
       "      <td>10,000,000+</td>\n",
       "      <td>0</td>\n",
       "      <td>4.2 and up</td>\n",
       "      <td>16384.0</td>\n",
       "    </tr>\n",
       "    <tr>\n",
       "      <th>5</th>\n",
       "      <td>FOOD_AND_DRINK</td>\n",
       "      <td>3.82532239</td>\n",
       "      <td>2559</td>\n",
       "      <td>100,000+</td>\n",
       "      <td>0</td>\n",
       "      <td>5.0 and up</td>\n",
       "      <td>23552.0</td>\n",
       "    </tr>\n",
       "    <tr>\n",
       "      <th>8</th>\n",
       "      <td>TRAVEL_AND_LOCAL</td>\n",
       "      <td>3.811764717</td>\n",
       "      <td>85</td>\n",
       "      <td>10,000+</td>\n",
       "      <td>0</td>\n",
       "      <td>4.3 and up</td>\n",
       "      <td>4198.4</td>\n",
       "    </tr>\n",
       "    <tr>\n",
       "      <th>12</th>\n",
       "      <td>LIFESTYLE</td>\n",
       "      <td>3.213527918</td>\n",
       "      <td>754</td>\n",
       "      <td>100,000+</td>\n",
       "      <td>0</td>\n",
       "      <td>5.0 and up</td>\n",
       "      <td>39936.0</td>\n",
       "    </tr>\n",
       "  </tbody>\n",
       "</table>\n",
       "</div>"
      ],
      "text/plain": [
       "            Category       Rating Reviews     Installs Price Minimum Version  \\\n",
       "2           SHOPPING  3.656329393    1967     100,000+     0      5.0 and up   \n",
       "3     FOOD_AND_DRINK  4.107232571  389154  10,000,000+     0      4.2 and up   \n",
       "5     FOOD_AND_DRINK   3.82532239    2559     100,000+     0      5.0 and up   \n",
       "8   TRAVEL_AND_LOCAL  3.811764717      85      10,000+     0      4.3 and up   \n",
       "12         LIFESTYLE  3.213527918     754     100,000+     0      5.0 and up   \n",
       "\n",
       "    size(Kb)  \n",
       "2     1433.6  \n",
       "3    16384.0  \n",
       "5    23552.0  \n",
       "8     4198.4  \n",
       "12   39936.0  "
      ]
     },
     "execution_count": 122,
     "metadata": {},
     "output_type": "execute_result"
    }
   ],
   "source": [
    "data.head()"
   ]
  },
  {
   "cell_type": "code",
   "execution_count": 123,
   "metadata": {},
   "outputs": [],
   "source": [
    "# Making a list of all datas present in the MiniVertion column.\n",
    "minimum_version_list = data['Minimum Version'].values"
   ]
  },
  {
   "cell_type": "code",
   "execution_count": 124,
   "metadata": {},
   "outputs": [],
   "source": [
    "# As we can only use the numeric value in machine learning algorithms\n",
    "# hense we will take the first letter in all the values in the column and convert to their integer form."
   ]
  },
  {
   "cell_type": "code",
   "execution_count": 125,
   "metadata": {},
   "outputs": [],
   "source": [
    "minimum_version_list_first_letter = []\n",
    "for i in minimum_version_list:\n",
    "    try:\n",
    "        minimum_version_list_first_letter.append(int(i[0]))\n",
    "    except:\n",
    "        minimum_version_list_first_letter.append(0)"
   ]
  },
  {
   "cell_type": "code",
   "execution_count": 126,
   "metadata": {},
   "outputs": [],
   "source": [
    "data.drop(columns={'Minimum Version'},inplace = True)"
   ]
  },
  {
   "cell_type": "code",
   "execution_count": 127,
   "metadata": {},
   "outputs": [],
   "source": [
    "data['Minimum Version'] = minimum_version_list_first_letter"
   ]
  },
  {
   "cell_type": "code",
   "execution_count": 128,
   "metadata": {},
   "outputs": [],
   "source": [
    "data = data[data['Minimum Version']!=0]"
   ]
  },
  {
   "cell_type": "code",
   "execution_count": 129,
   "metadata": {},
   "outputs": [
    {
     "data": {
      "text/plain": [
       "(230770, 7)"
      ]
     },
     "execution_count": 129,
     "metadata": {},
     "output_type": "execute_result"
    }
   ],
   "source": [
    "data.shape"
   ]
  },
  {
   "cell_type": "code",
   "execution_count": 130,
   "metadata": {},
   "outputs": [
    {
     "data": {
      "text/html": [
       "<div>\n",
       "<style scoped>\n",
       "    .dataframe tbody tr th:only-of-type {\n",
       "        vertical-align: middle;\n",
       "    }\n",
       "\n",
       "    .dataframe tbody tr th {\n",
       "        vertical-align: top;\n",
       "    }\n",
       "\n",
       "    .dataframe thead th {\n",
       "        text-align: right;\n",
       "    }\n",
       "</style>\n",
       "<table border=\"1\" class=\"dataframe\">\n",
       "  <thead>\n",
       "    <tr style=\"text-align: right;\">\n",
       "      <th></th>\n",
       "      <th>Category</th>\n",
       "      <th>Rating</th>\n",
       "      <th>Reviews</th>\n",
       "      <th>Installs</th>\n",
       "      <th>Price</th>\n",
       "      <th>size(Kb)</th>\n",
       "      <th>Minimum Version</th>\n",
       "    </tr>\n",
       "  </thead>\n",
       "  <tbody>\n",
       "    <tr>\n",
       "      <th>2</th>\n",
       "      <td>SHOPPING</td>\n",
       "      <td>3.656329393</td>\n",
       "      <td>1967</td>\n",
       "      <td>100,000+</td>\n",
       "      <td>0</td>\n",
       "      <td>1433.6</td>\n",
       "      <td>5</td>\n",
       "    </tr>\n",
       "    <tr>\n",
       "      <th>3</th>\n",
       "      <td>FOOD_AND_DRINK</td>\n",
       "      <td>4.107232571</td>\n",
       "      <td>389154</td>\n",
       "      <td>10,000,000+</td>\n",
       "      <td>0</td>\n",
       "      <td>16384.0</td>\n",
       "      <td>4</td>\n",
       "    </tr>\n",
       "    <tr>\n",
       "      <th>5</th>\n",
       "      <td>FOOD_AND_DRINK</td>\n",
       "      <td>3.82532239</td>\n",
       "      <td>2559</td>\n",
       "      <td>100,000+</td>\n",
       "      <td>0</td>\n",
       "      <td>23552.0</td>\n",
       "      <td>5</td>\n",
       "    </tr>\n",
       "    <tr>\n",
       "      <th>8</th>\n",
       "      <td>TRAVEL_AND_LOCAL</td>\n",
       "      <td>3.811764717</td>\n",
       "      <td>85</td>\n",
       "      <td>10,000+</td>\n",
       "      <td>0</td>\n",
       "      <td>4198.4</td>\n",
       "      <td>4</td>\n",
       "    </tr>\n",
       "    <tr>\n",
       "      <th>12</th>\n",
       "      <td>LIFESTYLE</td>\n",
       "      <td>3.213527918</td>\n",
       "      <td>754</td>\n",
       "      <td>100,000+</td>\n",
       "      <td>0</td>\n",
       "      <td>39936.0</td>\n",
       "      <td>5</td>\n",
       "    </tr>\n",
       "  </tbody>\n",
       "</table>\n",
       "</div>"
      ],
      "text/plain": [
       "            Category       Rating Reviews     Installs Price  size(Kb)  \\\n",
       "2           SHOPPING  3.656329393    1967     100,000+     0    1433.6   \n",
       "3     FOOD_AND_DRINK  4.107232571  389154  10,000,000+     0   16384.0   \n",
       "5     FOOD_AND_DRINK   3.82532239    2559     100,000+     0   23552.0   \n",
       "8   TRAVEL_AND_LOCAL  3.811764717      85      10,000+     0    4198.4   \n",
       "12         LIFESTYLE  3.213527918     754     100,000+     0   39936.0   \n",
       "\n",
       "    Minimum Version  \n",
       "2                 5  \n",
       "3                 4  \n",
       "5                 5  \n",
       "8                 4  \n",
       "12                5  "
      ]
     },
     "execution_count": 130,
     "metadata": {},
     "output_type": "execute_result"
    }
   ],
   "source": [
    "data.head()"
   ]
  },
  {
   "cell_type": "code",
   "execution_count": 131,
   "metadata": {
    "scrolled": true
   },
   "outputs": [
    {
     "data": {
      "text/plain": [
       "0        221523\n",
       "$0.99      1902\n",
       "$1.99      1257\n",
       "$2.99      1051\n",
       "$1.49       667\n",
       "Name: Price, dtype: int64"
      ]
     },
     "execution_count": 131,
     "metadata": {},
     "output_type": "execute_result"
    }
   ],
   "source": [
    "data['Price'].value_counts().head()"
   ]
  },
  {
   "cell_type": "code",
   "execution_count": 132,
   "metadata": {},
   "outputs": [],
   "source": [
    "# It  is clear from the above block that the data we are working with is \n",
    "# biased and we know that this biased data will hamper our prediction \n",
    "# hense we will be removing all the others except \"0\" row, resulting in\n",
    "# removing the biases hense then we will remove the column as this will \n",
    "# possess only one type of data"
   ]
  },
  {
   "cell_type": "code",
   "execution_count": 133,
   "metadata": {},
   "outputs": [],
   "source": [
    "data = data[data['Price']=='0']\n",
    "data.drop(columns={'Price'},inplace = True)"
   ]
  },
  {
   "cell_type": "code",
   "execution_count": 134,
   "metadata": {},
   "outputs": [
    {
     "data": {
      "text/html": [
       "<div>\n",
       "<style scoped>\n",
       "    .dataframe tbody tr th:only-of-type {\n",
       "        vertical-align: middle;\n",
       "    }\n",
       "\n",
       "    .dataframe tbody tr th {\n",
       "        vertical-align: top;\n",
       "    }\n",
       "\n",
       "    .dataframe thead th {\n",
       "        text-align: right;\n",
       "    }\n",
       "</style>\n",
       "<table border=\"1\" class=\"dataframe\">\n",
       "  <thead>\n",
       "    <tr style=\"text-align: right;\">\n",
       "      <th></th>\n",
       "      <th>Category</th>\n",
       "      <th>Rating</th>\n",
       "      <th>Reviews</th>\n",
       "      <th>Installs</th>\n",
       "      <th>size(Kb)</th>\n",
       "      <th>Minimum Version</th>\n",
       "    </tr>\n",
       "  </thead>\n",
       "  <tbody>\n",
       "    <tr>\n",
       "      <th>2</th>\n",
       "      <td>SHOPPING</td>\n",
       "      <td>3.656329393</td>\n",
       "      <td>1967</td>\n",
       "      <td>100,000+</td>\n",
       "      <td>1433.6</td>\n",
       "      <td>5</td>\n",
       "    </tr>\n",
       "    <tr>\n",
       "      <th>3</th>\n",
       "      <td>FOOD_AND_DRINK</td>\n",
       "      <td>4.107232571</td>\n",
       "      <td>389154</td>\n",
       "      <td>10,000,000+</td>\n",
       "      <td>16384.0</td>\n",
       "      <td>4</td>\n",
       "    </tr>\n",
       "    <tr>\n",
       "      <th>5</th>\n",
       "      <td>FOOD_AND_DRINK</td>\n",
       "      <td>3.82532239</td>\n",
       "      <td>2559</td>\n",
       "      <td>100,000+</td>\n",
       "      <td>23552.0</td>\n",
       "      <td>5</td>\n",
       "    </tr>\n",
       "    <tr>\n",
       "      <th>8</th>\n",
       "      <td>TRAVEL_AND_LOCAL</td>\n",
       "      <td>3.811764717</td>\n",
       "      <td>85</td>\n",
       "      <td>10,000+</td>\n",
       "      <td>4198.4</td>\n",
       "      <td>4</td>\n",
       "    </tr>\n",
       "    <tr>\n",
       "      <th>12</th>\n",
       "      <td>LIFESTYLE</td>\n",
       "      <td>3.213527918</td>\n",
       "      <td>754</td>\n",
       "      <td>100,000+</td>\n",
       "      <td>39936.0</td>\n",
       "      <td>5</td>\n",
       "    </tr>\n",
       "  </tbody>\n",
       "</table>\n",
       "</div>"
      ],
      "text/plain": [
       "            Category       Rating Reviews     Installs  size(Kb)  \\\n",
       "2           SHOPPING  3.656329393    1967     100,000+    1433.6   \n",
       "3     FOOD_AND_DRINK  4.107232571  389154  10,000,000+   16384.0   \n",
       "5     FOOD_AND_DRINK   3.82532239    2559     100,000+   23552.0   \n",
       "8   TRAVEL_AND_LOCAL  3.811764717      85      10,000+    4198.4   \n",
       "12         LIFESTYLE  3.213527918     754     100,000+   39936.0   \n",
       "\n",
       "    Minimum Version  \n",
       "2                 5  \n",
       "3                 4  \n",
       "5                 5  \n",
       "8                 4  \n",
       "12                5  "
      ]
     },
     "execution_count": 134,
     "metadata": {},
     "output_type": "execute_result"
    }
   ],
   "source": [
    "data.head()"
   ]
  },
  {
   "cell_type": "code",
   "execution_count": 135,
   "metadata": {},
   "outputs": [
    {
     "data": {
      "text/plain": [
       "(221523, 6)"
      ]
     },
     "execution_count": 135,
     "metadata": {},
     "output_type": "execute_result"
    }
   ],
   "source": [
    "data.shape"
   ]
  },
  {
   "cell_type": "code",
   "execution_count": 136,
   "metadata": {},
   "outputs": [
    {
     "data": {
      "text/plain": [
       "10,000+           51808\n",
       "1,000+            41759\n",
       "100,000+          31004\n",
       "5,000+            22603\n",
       "50,000+           19291\n",
       "100+              15003\n",
       "500+              11628\n",
       "1,000,000+         9300\n",
       "500,000+           7760\n",
       "10+                3517\n",
       "50+                3048\n",
       "5,000,000+         1874\n",
       "10,000,000+        1665\n",
       "5+                  548\n",
       "1+                  351\n",
       "50,000,000+         191\n",
       "100,000,000+        114\n",
       "0+                   47\n",
       "500,000,000+         10\n",
       "1,000,000,000+        2\n",
       "Name: Installs, dtype: int64"
      ]
     },
     "execution_count": 136,
     "metadata": {},
     "output_type": "execute_result"
    }
   ],
   "source": [
    "data['Installs'].value_counts()"
   ]
  },
  {
   "cell_type": "code",
   "execution_count": 137,
   "metadata": {},
   "outputs": [],
   "source": [
    "# To convert the above data into usable form we need to remove the last plus(+) symbol and then remove all the comas(,)\n",
    "# then convert the value in to its integer form."
   ]
  },
  {
   "cell_type": "code",
   "execution_count": 138,
   "metadata": {},
   "outputs": [],
   "source": [
    "install_values = data['Installs'].values\n",
    "install_values_refined = []\n",
    "for i in install_values:\n",
    "    i = i.replace(',','')\n",
    "    install_values_refined.append(int(i[:-1]))\n",
    "data.drop(columns={'Installs'},inplace=True)\n",
    "data['Installs'] = install_values_refined"
   ]
  },
  {
   "cell_type": "code",
   "execution_count": 139,
   "metadata": {},
   "outputs": [
    {
     "data": {
      "text/html": [
       "<div>\n",
       "<style scoped>\n",
       "    .dataframe tbody tr th:only-of-type {\n",
       "        vertical-align: middle;\n",
       "    }\n",
       "\n",
       "    .dataframe tbody tr th {\n",
       "        vertical-align: top;\n",
       "    }\n",
       "\n",
       "    .dataframe thead th {\n",
       "        text-align: right;\n",
       "    }\n",
       "</style>\n",
       "<table border=\"1\" class=\"dataframe\">\n",
       "  <thead>\n",
       "    <tr style=\"text-align: right;\">\n",
       "      <th></th>\n",
       "      <th>Category</th>\n",
       "      <th>Rating</th>\n",
       "      <th>Reviews</th>\n",
       "      <th>size(Kb)</th>\n",
       "      <th>Minimum Version</th>\n",
       "      <th>Installs</th>\n",
       "    </tr>\n",
       "  </thead>\n",
       "  <tbody>\n",
       "    <tr>\n",
       "      <th>2</th>\n",
       "      <td>SHOPPING</td>\n",
       "      <td>3.656329393</td>\n",
       "      <td>1967</td>\n",
       "      <td>1433.6</td>\n",
       "      <td>5</td>\n",
       "      <td>100000</td>\n",
       "    </tr>\n",
       "    <tr>\n",
       "      <th>3</th>\n",
       "      <td>FOOD_AND_DRINK</td>\n",
       "      <td>4.107232571</td>\n",
       "      <td>389154</td>\n",
       "      <td>16384.0</td>\n",
       "      <td>4</td>\n",
       "      <td>10000000</td>\n",
       "    </tr>\n",
       "    <tr>\n",
       "      <th>5</th>\n",
       "      <td>FOOD_AND_DRINK</td>\n",
       "      <td>3.82532239</td>\n",
       "      <td>2559</td>\n",
       "      <td>23552.0</td>\n",
       "      <td>5</td>\n",
       "      <td>100000</td>\n",
       "    </tr>\n",
       "    <tr>\n",
       "      <th>8</th>\n",
       "      <td>TRAVEL_AND_LOCAL</td>\n",
       "      <td>3.811764717</td>\n",
       "      <td>85</td>\n",
       "      <td>4198.4</td>\n",
       "      <td>4</td>\n",
       "      <td>10000</td>\n",
       "    </tr>\n",
       "    <tr>\n",
       "      <th>12</th>\n",
       "      <td>LIFESTYLE</td>\n",
       "      <td>3.213527918</td>\n",
       "      <td>754</td>\n",
       "      <td>39936.0</td>\n",
       "      <td>5</td>\n",
       "      <td>100000</td>\n",
       "    </tr>\n",
       "  </tbody>\n",
       "</table>\n",
       "</div>"
      ],
      "text/plain": [
       "            Category       Rating Reviews  size(Kb)  Minimum Version  Installs\n",
       "2           SHOPPING  3.656329393    1967    1433.6                5    100000\n",
       "3     FOOD_AND_DRINK  4.107232571  389154   16384.0                4  10000000\n",
       "5     FOOD_AND_DRINK   3.82532239    2559   23552.0                5    100000\n",
       "8   TRAVEL_AND_LOCAL  3.811764717      85    4198.4                4     10000\n",
       "12         LIFESTYLE  3.213527918     754   39936.0                5    100000"
      ]
     },
     "execution_count": 139,
     "metadata": {},
     "output_type": "execute_result"
    }
   ],
   "source": [
    "data.head()"
   ]
  },
  {
   "cell_type": "code",
   "execution_count": 140,
   "metadata": {},
   "outputs": [],
   "source": [
    "# Applications that are not installed by a minimum of 500 people are not so relevent\n",
    "# application so those applications are removed.\n",
    "\n",
    "data = data[data[\"Installs\"] > 500]"
   ]
  },
  {
   "cell_type": "code",
   "execution_count": 141,
   "metadata": {
    "scrolled": true
   },
   "outputs": [
    {
     "data": {
      "text/plain": [
       "6.0    1417\n",
       "9.0    1361\n",
       "8.0    1340\n",
       "7.0    1330\n",
       "5.0    1298\n",
       "Name: Reviews, dtype: int64"
      ]
     },
     "execution_count": 141,
     "metadata": {},
     "output_type": "execute_result"
    }
   ],
   "source": [
    "data['Reviews'].value_counts().head()"
   ]
  },
  {
   "cell_type": "code",
   "execution_count": 142,
   "metadata": {},
   "outputs": [],
   "source": [
    "# Here all the data is present in strings so we need to convert them to equivalent integers."
   ]
  },
  {
   "cell_type": "code",
   "execution_count": 143,
   "metadata": {},
   "outputs": [],
   "source": [
    "reviews_list = data['Reviews'].values\n",
    "reviews_list_integer_values = []\n",
    "for i in reviews_list:\n",
    "    reviews_list_integer_values.append(int(i))"
   ]
  },
  {
   "cell_type": "code",
   "execution_count": 144,
   "metadata": {},
   "outputs": [],
   "source": [
    "data.drop(columns= {'Reviews'},inplace=True)\n",
    "data['Reviews'] = reviews_list_integer_values"
   ]
  },
  {
   "cell_type": "code",
   "execution_count": 145,
   "metadata": {},
   "outputs": [
    {
     "data": {
      "text/html": [
       "<div>\n",
       "<style scoped>\n",
       "    .dataframe tbody tr th:only-of-type {\n",
       "        vertical-align: middle;\n",
       "    }\n",
       "\n",
       "    .dataframe tbody tr th {\n",
       "        vertical-align: top;\n",
       "    }\n",
       "\n",
       "    .dataframe thead th {\n",
       "        text-align: right;\n",
       "    }\n",
       "</style>\n",
       "<table border=\"1\" class=\"dataframe\">\n",
       "  <thead>\n",
       "    <tr style=\"text-align: right;\">\n",
       "      <th></th>\n",
       "      <th>Category</th>\n",
       "      <th>Rating</th>\n",
       "      <th>size(Kb)</th>\n",
       "      <th>Minimum Version</th>\n",
       "      <th>Installs</th>\n",
       "      <th>Reviews</th>\n",
       "    </tr>\n",
       "  </thead>\n",
       "  <tbody>\n",
       "    <tr>\n",
       "      <th>2</th>\n",
       "      <td>SHOPPING</td>\n",
       "      <td>3.656329393</td>\n",
       "      <td>1433.6</td>\n",
       "      <td>5</td>\n",
       "      <td>100000</td>\n",
       "      <td>1967</td>\n",
       "    </tr>\n",
       "    <tr>\n",
       "      <th>3</th>\n",
       "      <td>FOOD_AND_DRINK</td>\n",
       "      <td>4.107232571</td>\n",
       "      <td>16384.0</td>\n",
       "      <td>4</td>\n",
       "      <td>10000000</td>\n",
       "      <td>389154</td>\n",
       "    </tr>\n",
       "    <tr>\n",
       "      <th>5</th>\n",
       "      <td>FOOD_AND_DRINK</td>\n",
       "      <td>3.82532239</td>\n",
       "      <td>23552.0</td>\n",
       "      <td>5</td>\n",
       "      <td>100000</td>\n",
       "      <td>2559</td>\n",
       "    </tr>\n",
       "    <tr>\n",
       "      <th>8</th>\n",
       "      <td>TRAVEL_AND_LOCAL</td>\n",
       "      <td>3.811764717</td>\n",
       "      <td>4198.4</td>\n",
       "      <td>4</td>\n",
       "      <td>10000</td>\n",
       "      <td>85</td>\n",
       "    </tr>\n",
       "    <tr>\n",
       "      <th>12</th>\n",
       "      <td>LIFESTYLE</td>\n",
       "      <td>3.213527918</td>\n",
       "      <td>39936.0</td>\n",
       "      <td>5</td>\n",
       "      <td>100000</td>\n",
       "      <td>754</td>\n",
       "    </tr>\n",
       "  </tbody>\n",
       "</table>\n",
       "</div>"
      ],
      "text/plain": [
       "            Category       Rating  size(Kb)  Minimum Version  Installs  \\\n",
       "2           SHOPPING  3.656329393    1433.6                5    100000   \n",
       "3     FOOD_AND_DRINK  4.107232571   16384.0                4  10000000   \n",
       "5     FOOD_AND_DRINK   3.82532239   23552.0                5    100000   \n",
       "8   TRAVEL_AND_LOCAL  3.811764717    4198.4                4     10000   \n",
       "12         LIFESTYLE  3.213527918   39936.0                5    100000   \n",
       "\n",
       "    Reviews  \n",
       "2      1967  \n",
       "3    389154  \n",
       "5      2559  \n",
       "8        85  \n",
       "12      754  "
      ]
     },
     "execution_count": 145,
     "metadata": {},
     "output_type": "execute_result"
    }
   ],
   "source": [
    "data.head()"
   ]
  },
  {
   "cell_type": "code",
   "execution_count": 146,
   "metadata": {},
   "outputs": [
    {
     "data": {
      "text/plain": [
       "(103724, 6)"
      ]
     },
     "execution_count": 146,
     "metadata": {},
     "output_type": "execute_result"
    }
   ],
   "source": [
    "# Applications that are not Reviewed by a minimum of 100 people are not so relevent\n",
    "# application so those applications are removed.\n",
    "\n",
    "data = data[data[\"Reviews\"]>100]\n",
    "data.shape"
   ]
  },
  {
   "cell_type": "code",
   "execution_count": 147,
   "metadata": {},
   "outputs": [
    {
     "name": "stdout",
     "output_type": "stream",
     "text": [
      "<class 'pandas.core.frame.DataFrame'>\n",
      "Int64Index: 103724 entries, 2 to 267032\n",
      "Data columns (total 6 columns):\n",
      "Category           103724 non-null object\n",
      "Rating             103724 non-null object\n",
      "size(Kb)           103724 non-null float64\n",
      "Minimum Version    103724 non-null int64\n",
      "Installs           103724 non-null int64\n",
      "Reviews            103724 non-null int64\n",
      "dtypes: float64(1), int64(3), object(2)\n",
      "memory usage: 5.5+ MB\n"
     ]
    }
   ],
   "source": [
    "data.info()"
   ]
  },
  {
   "cell_type": "code",
   "execution_count": 148,
   "metadata": {},
   "outputs": [
    {
     "data": {
      "text/html": [
       "<div>\n",
       "<style scoped>\n",
       "    .dataframe tbody tr th:only-of-type {\n",
       "        vertical-align: middle;\n",
       "    }\n",
       "\n",
       "    .dataframe tbody tr th {\n",
       "        vertical-align: top;\n",
       "    }\n",
       "\n",
       "    .dataframe thead th {\n",
       "        text-align: right;\n",
       "    }\n",
       "</style>\n",
       "<table border=\"1\" class=\"dataframe\">\n",
       "  <thead>\n",
       "    <tr style=\"text-align: right;\">\n",
       "      <th></th>\n",
       "      <th>Category</th>\n",
       "      <th>Rating</th>\n",
       "      <th>size(Kb)</th>\n",
       "      <th>Minimum Version</th>\n",
       "      <th>Installs</th>\n",
       "      <th>Reviews</th>\n",
       "    </tr>\n",
       "  </thead>\n",
       "  <tbody>\n",
       "    <tr>\n",
       "      <th>2</th>\n",
       "      <td>SHOPPING</td>\n",
       "      <td>3.656329393</td>\n",
       "      <td>1433.6</td>\n",
       "      <td>5</td>\n",
       "      <td>100000</td>\n",
       "      <td>1967</td>\n",
       "    </tr>\n",
       "    <tr>\n",
       "      <th>3</th>\n",
       "      <td>FOOD_AND_DRINK</td>\n",
       "      <td>4.107232571</td>\n",
       "      <td>16384.0</td>\n",
       "      <td>4</td>\n",
       "      <td>10000000</td>\n",
       "      <td>389154</td>\n",
       "    </tr>\n",
       "    <tr>\n",
       "      <th>5</th>\n",
       "      <td>FOOD_AND_DRINK</td>\n",
       "      <td>3.82532239</td>\n",
       "      <td>23552.0</td>\n",
       "      <td>5</td>\n",
       "      <td>100000</td>\n",
       "      <td>2559</td>\n",
       "    </tr>\n",
       "    <tr>\n",
       "      <th>12</th>\n",
       "      <td>LIFESTYLE</td>\n",
       "      <td>3.213527918</td>\n",
       "      <td>39936.0</td>\n",
       "      <td>5</td>\n",
       "      <td>100000</td>\n",
       "      <td>754</td>\n",
       "    </tr>\n",
       "    <tr>\n",
       "      <th>13</th>\n",
       "      <td>FOOD_AND_DRINK</td>\n",
       "      <td>4.160278797</td>\n",
       "      <td>8294.4</td>\n",
       "      <td>4</td>\n",
       "      <td>100000</td>\n",
       "      <td>287</td>\n",
       "    </tr>\n",
       "  </tbody>\n",
       "</table>\n",
       "</div>"
      ],
      "text/plain": [
       "          Category       Rating  size(Kb)  Minimum Version  Installs  Reviews\n",
       "2         SHOPPING  3.656329393    1433.6                5    100000     1967\n",
       "3   FOOD_AND_DRINK  4.107232571   16384.0                4  10000000   389154\n",
       "5   FOOD_AND_DRINK   3.82532239   23552.0                5    100000     2559\n",
       "12       LIFESTYLE  3.213527918   39936.0                5    100000      754\n",
       "13  FOOD_AND_DRINK  4.160278797    8294.4                4    100000      287"
      ]
     },
     "execution_count": 148,
     "metadata": {},
     "output_type": "execute_result"
    }
   ],
   "source": [
    "data.head()"
   ]
  },
  {
   "cell_type": "code",
   "execution_count": 149,
   "metadata": {},
   "outputs": [],
   "source": [
    "# In rating column all the data is present in strings so we need to convert them to equivalent upto 4 digit\n",
    "# after dacimal place float numbers.\n",
    "# For that we will round them to 4th place ecimal numbers.\n",
    "# We are taking anly 4 digit after decimal because it will make our calculation easy."
   ]
  },
  {
   "cell_type": "code",
   "execution_count": 150,
   "metadata": {},
   "outputs": [],
   "source": [
    "ratings_list = data['Rating'].values\n",
    "ratings_list1 = []\n",
    "for i in ratings_list:\n",
    "    ratings_list1.append(round(float(i),4))"
   ]
  },
  {
   "cell_type": "code",
   "execution_count": 151,
   "metadata": {},
   "outputs": [],
   "source": [
    "data.drop(columns={'Rating'},inplace=True)\n",
    "data['Rating'] = ratings_list1"
   ]
  },
  {
   "cell_type": "code",
   "execution_count": 152,
   "metadata": {},
   "outputs": [
    {
     "data": {
      "text/html": [
       "<div>\n",
       "<style scoped>\n",
       "    .dataframe tbody tr th:only-of-type {\n",
       "        vertical-align: middle;\n",
       "    }\n",
       "\n",
       "    .dataframe tbody tr th {\n",
       "        vertical-align: top;\n",
       "    }\n",
       "\n",
       "    .dataframe thead th {\n",
       "        text-align: right;\n",
       "    }\n",
       "</style>\n",
       "<table border=\"1\" class=\"dataframe\">\n",
       "  <thead>\n",
       "    <tr style=\"text-align: right;\">\n",
       "      <th></th>\n",
       "      <th>Category</th>\n",
       "      <th>size(Kb)</th>\n",
       "      <th>Minimum Version</th>\n",
       "      <th>Installs</th>\n",
       "      <th>Reviews</th>\n",
       "      <th>Rating</th>\n",
       "    </tr>\n",
       "  </thead>\n",
       "  <tbody>\n",
       "    <tr>\n",
       "      <th>2</th>\n",
       "      <td>SHOPPING</td>\n",
       "      <td>1433.6</td>\n",
       "      <td>5</td>\n",
       "      <td>100000</td>\n",
       "      <td>1967</td>\n",
       "      <td>3.6563</td>\n",
       "    </tr>\n",
       "    <tr>\n",
       "      <th>3</th>\n",
       "      <td>FOOD_AND_DRINK</td>\n",
       "      <td>16384.0</td>\n",
       "      <td>4</td>\n",
       "      <td>10000000</td>\n",
       "      <td>389154</td>\n",
       "      <td>4.1072</td>\n",
       "    </tr>\n",
       "    <tr>\n",
       "      <th>5</th>\n",
       "      <td>FOOD_AND_DRINK</td>\n",
       "      <td>23552.0</td>\n",
       "      <td>5</td>\n",
       "      <td>100000</td>\n",
       "      <td>2559</td>\n",
       "      <td>3.8253</td>\n",
       "    </tr>\n",
       "    <tr>\n",
       "      <th>12</th>\n",
       "      <td>LIFESTYLE</td>\n",
       "      <td>39936.0</td>\n",
       "      <td>5</td>\n",
       "      <td>100000</td>\n",
       "      <td>754</td>\n",
       "      <td>3.2135</td>\n",
       "    </tr>\n",
       "    <tr>\n",
       "      <th>13</th>\n",
       "      <td>FOOD_AND_DRINK</td>\n",
       "      <td>8294.4</td>\n",
       "      <td>4</td>\n",
       "      <td>100000</td>\n",
       "      <td>287</td>\n",
       "      <td>4.1603</td>\n",
       "    </tr>\n",
       "  </tbody>\n",
       "</table>\n",
       "</div>"
      ],
      "text/plain": [
       "          Category  size(Kb)  Minimum Version  Installs  Reviews  Rating\n",
       "2         SHOPPING    1433.6                5    100000     1967  3.6563\n",
       "3   FOOD_AND_DRINK   16384.0                4  10000000   389154  4.1072\n",
       "5   FOOD_AND_DRINK   23552.0                5    100000     2559  3.8253\n",
       "12       LIFESTYLE   39936.0                5    100000      754  3.2135\n",
       "13  FOOD_AND_DRINK    8294.4                4    100000      287  4.1603"
      ]
     },
     "execution_count": 152,
     "metadata": {},
     "output_type": "execute_result"
    }
   ],
   "source": [
    "data.head()"
   ]
  },
  {
   "cell_type": "code",
   "execution_count": 153,
   "metadata": {},
   "outputs": [
    {
     "name": "stdout",
     "output_type": "stream",
     "text": [
      "<class 'pandas.core.frame.DataFrame'>\n",
      "Int64Index: 103724 entries, 2 to 267032\n",
      "Data columns (total 6 columns):\n",
      "Category           103724 non-null object\n",
      "size(Kb)           103724 non-null float64\n",
      "Minimum Version    103724 non-null int64\n",
      "Installs           103724 non-null int64\n",
      "Reviews            103724 non-null int64\n",
      "Rating             103724 non-null float64\n",
      "dtypes: float64(2), int64(3), object(1)\n",
      "memory usage: 5.5+ MB\n"
     ]
    }
   ],
   "source": [
    "data.info()"
   ]
  },
  {
   "cell_type": "code",
   "execution_count": 154,
   "metadata": {
    "scrolled": true
   },
   "outputs": [
    {
     "data": {
      "text/plain": [
       "EDUCATION              12173\n",
       "TOOLS                   9717\n",
       "BOOKS_AND_REFERENCE     8449\n",
       "ENTERTAINMENT           7408\n",
       "MUSIC_AND_AUDIO         6485\n",
       "LIFESTYLE               5846\n",
       "FINANCE                 5358\n",
       "PERSONALIZATION         5149\n",
       "PHOTOGRAPHY             3748\n",
       "PRODUCTIVITY            3611\n",
       "Name: Category, dtype: int64"
      ]
     },
     "execution_count": 154,
     "metadata": {},
     "output_type": "execute_result"
    }
   ],
   "source": [
    "data['Category'].value_counts().head(10)"
   ]
  },
  {
   "cell_type": "code",
   "execution_count": 155,
   "metadata": {},
   "outputs": [
    {
     "data": {
      "text/plain": [
       "49"
      ]
     },
     "execution_count": 155,
     "metadata": {},
     "output_type": "execute_result"
    }
   ],
   "source": [
    "len(data['Category'].value_counts())"
   ]
  },
  {
   "cell_type": "code",
   "execution_count": 156,
   "metadata": {},
   "outputs": [],
   "source": [
    "# as this column is important we will be making 50 new columns and if the application is in the\n",
    "# column's category then the entry will be \"1\" else it will be 0."
   ]
  },
  {
   "cell_type": "code",
   "execution_count": 157,
   "metadata": {},
   "outputs": [],
   "source": [
    "category_index = data['Category'].value_counts().index"
   ]
  },
  {
   "cell_type": "code",
   "execution_count": 158,
   "metadata": {},
   "outputs": [],
   "source": [
    "long_category_array = []\n",
    "for i in data['Category']:\n",
    "    one_in_which_column = []\n",
    "    for j in category_index:\n",
    "        if i == j:\n",
    "            one_in_which_column.append(1)\n",
    "        else:\n",
    "            one_in_which_column.append(0)\n",
    "    long_category_array.append(one_in_which_column)"
   ]
  },
  {
   "cell_type": "code",
   "execution_count": 159,
   "metadata": {},
   "outputs": [],
   "source": [
    "# Transfering the array in to numpy array to be abel to merge with the Detabase.\n",
    "long_category_array = np.array(long_category_array)"
   ]
  },
  {
   "cell_type": "code",
   "execution_count": 160,
   "metadata": {},
   "outputs": [],
   "source": [
    "for i in range(len(category_index)):\n",
    "    data[category_index[i]] = long_category_array[:,i]"
   ]
  },
  {
   "cell_type": "code",
   "execution_count": 161,
   "metadata": {},
   "outputs": [
    {
     "data": {
      "text/html": [
       "<div>\n",
       "<style scoped>\n",
       "    .dataframe tbody tr th:only-of-type {\n",
       "        vertical-align: middle;\n",
       "    }\n",
       "\n",
       "    .dataframe tbody tr th {\n",
       "        vertical-align: top;\n",
       "    }\n",
       "\n",
       "    .dataframe thead th {\n",
       "        text-align: right;\n",
       "    }\n",
       "</style>\n",
       "<table border=\"1\" class=\"dataframe\">\n",
       "  <thead>\n",
       "    <tr style=\"text-align: right;\">\n",
       "      <th></th>\n",
       "      <th>Category</th>\n",
       "      <th>size(Kb)</th>\n",
       "      <th>Minimum Version</th>\n",
       "      <th>Installs</th>\n",
       "      <th>Reviews</th>\n",
       "      <th>Rating</th>\n",
       "      <th>EDUCATION</th>\n",
       "      <th>TOOLS</th>\n",
       "      <th>BOOKS_AND_REFERENCE</th>\n",
       "      <th>ENTERTAINMENT</th>\n",
       "      <th>...</th>\n",
       "      <th>PARENTING</th>\n",
       "      <th>GAME_ADVENTURE</th>\n",
       "      <th>LIBRARIES_AND_DEMO</th>\n",
       "      <th>GAME_ROLE_PLAYING</th>\n",
       "      <th>GAME_STRATEGY</th>\n",
       "      <th>COMICS</th>\n",
       "      <th>GAME_MUSIC</th>\n",
       "      <th>EVENTS</th>\n",
       "      <th>DATING</th>\n",
       "      <th>GAME_CASINO</th>\n",
       "    </tr>\n",
       "  </thead>\n",
       "  <tbody>\n",
       "    <tr>\n",
       "      <th>2</th>\n",
       "      <td>SHOPPING</td>\n",
       "      <td>1433.6</td>\n",
       "      <td>5</td>\n",
       "      <td>100000</td>\n",
       "      <td>1967</td>\n",
       "      <td>3.6563</td>\n",
       "      <td>0</td>\n",
       "      <td>0</td>\n",
       "      <td>0</td>\n",
       "      <td>0</td>\n",
       "      <td>...</td>\n",
       "      <td>0</td>\n",
       "      <td>0</td>\n",
       "      <td>0</td>\n",
       "      <td>0</td>\n",
       "      <td>0</td>\n",
       "      <td>0</td>\n",
       "      <td>0</td>\n",
       "      <td>0</td>\n",
       "      <td>0</td>\n",
       "      <td>0</td>\n",
       "    </tr>\n",
       "    <tr>\n",
       "      <th>3</th>\n",
       "      <td>FOOD_AND_DRINK</td>\n",
       "      <td>16384.0</td>\n",
       "      <td>4</td>\n",
       "      <td>10000000</td>\n",
       "      <td>389154</td>\n",
       "      <td>4.1072</td>\n",
       "      <td>0</td>\n",
       "      <td>0</td>\n",
       "      <td>0</td>\n",
       "      <td>0</td>\n",
       "      <td>...</td>\n",
       "      <td>0</td>\n",
       "      <td>0</td>\n",
       "      <td>0</td>\n",
       "      <td>0</td>\n",
       "      <td>0</td>\n",
       "      <td>0</td>\n",
       "      <td>0</td>\n",
       "      <td>0</td>\n",
       "      <td>0</td>\n",
       "      <td>0</td>\n",
       "    </tr>\n",
       "    <tr>\n",
       "      <th>5</th>\n",
       "      <td>FOOD_AND_DRINK</td>\n",
       "      <td>23552.0</td>\n",
       "      <td>5</td>\n",
       "      <td>100000</td>\n",
       "      <td>2559</td>\n",
       "      <td>3.8253</td>\n",
       "      <td>0</td>\n",
       "      <td>0</td>\n",
       "      <td>0</td>\n",
       "      <td>0</td>\n",
       "      <td>...</td>\n",
       "      <td>0</td>\n",
       "      <td>0</td>\n",
       "      <td>0</td>\n",
       "      <td>0</td>\n",
       "      <td>0</td>\n",
       "      <td>0</td>\n",
       "      <td>0</td>\n",
       "      <td>0</td>\n",
       "      <td>0</td>\n",
       "      <td>0</td>\n",
       "    </tr>\n",
       "    <tr>\n",
       "      <th>12</th>\n",
       "      <td>LIFESTYLE</td>\n",
       "      <td>39936.0</td>\n",
       "      <td>5</td>\n",
       "      <td>100000</td>\n",
       "      <td>754</td>\n",
       "      <td>3.2135</td>\n",
       "      <td>0</td>\n",
       "      <td>0</td>\n",
       "      <td>0</td>\n",
       "      <td>0</td>\n",
       "      <td>...</td>\n",
       "      <td>0</td>\n",
       "      <td>0</td>\n",
       "      <td>0</td>\n",
       "      <td>0</td>\n",
       "      <td>0</td>\n",
       "      <td>0</td>\n",
       "      <td>0</td>\n",
       "      <td>0</td>\n",
       "      <td>0</td>\n",
       "      <td>0</td>\n",
       "    </tr>\n",
       "    <tr>\n",
       "      <th>13</th>\n",
       "      <td>FOOD_AND_DRINK</td>\n",
       "      <td>8294.4</td>\n",
       "      <td>4</td>\n",
       "      <td>100000</td>\n",
       "      <td>287</td>\n",
       "      <td>4.1603</td>\n",
       "      <td>0</td>\n",
       "      <td>0</td>\n",
       "      <td>0</td>\n",
       "      <td>0</td>\n",
       "      <td>...</td>\n",
       "      <td>0</td>\n",
       "      <td>0</td>\n",
       "      <td>0</td>\n",
       "      <td>0</td>\n",
       "      <td>0</td>\n",
       "      <td>0</td>\n",
       "      <td>0</td>\n",
       "      <td>0</td>\n",
       "      <td>0</td>\n",
       "      <td>0</td>\n",
       "    </tr>\n",
       "  </tbody>\n",
       "</table>\n",
       "<p>5 rows × 55 columns</p>\n",
       "</div>"
      ],
      "text/plain": [
       "          Category  size(Kb)  Minimum Version  Installs  Reviews  Rating  \\\n",
       "2         SHOPPING    1433.6                5    100000     1967  3.6563   \n",
       "3   FOOD_AND_DRINK   16384.0                4  10000000   389154  4.1072   \n",
       "5   FOOD_AND_DRINK   23552.0                5    100000     2559  3.8253   \n",
       "12       LIFESTYLE   39936.0                5    100000      754  3.2135   \n",
       "13  FOOD_AND_DRINK    8294.4                4    100000      287  4.1603   \n",
       "\n",
       "    EDUCATION  TOOLS  BOOKS_AND_REFERENCE  ENTERTAINMENT     ...       \\\n",
       "2           0      0                    0              0     ...        \n",
       "3           0      0                    0              0     ...        \n",
       "5           0      0                    0              0     ...        \n",
       "12          0      0                    0              0     ...        \n",
       "13          0      0                    0              0     ...        \n",
       "\n",
       "    PARENTING  GAME_ADVENTURE  LIBRARIES_AND_DEMO  GAME_ROLE_PLAYING  \\\n",
       "2           0               0                   0                  0   \n",
       "3           0               0                   0                  0   \n",
       "5           0               0                   0                  0   \n",
       "12          0               0                   0                  0   \n",
       "13          0               0                   0                  0   \n",
       "\n",
       "    GAME_STRATEGY  COMICS  GAME_MUSIC  EVENTS  DATING  GAME_CASINO  \n",
       "2               0       0           0       0       0            0  \n",
       "3               0       0           0       0       0            0  \n",
       "5               0       0           0       0       0            0  \n",
       "12              0       0           0       0       0            0  \n",
       "13              0       0           0       0       0            0  \n",
       "\n",
       "[5 rows x 55 columns]"
      ]
     },
     "execution_count": 161,
     "metadata": {},
     "output_type": "execute_result"
    }
   ],
   "source": [
    "data.head()"
   ]
  },
  {
   "cell_type": "code",
   "execution_count": 162,
   "metadata": {},
   "outputs": [],
   "source": [
    "data.drop(columns={\"Category\"},inplace=True)"
   ]
  },
  {
   "cell_type": "code",
   "execution_count": 163,
   "metadata": {},
   "outputs": [],
   "source": [
    "# Now we will be removing one column from the Category related columns because our machine learning\n",
    "# algorithm will establish a relation between them which in turn will hamper our results."
   ]
  },
  {
   "cell_type": "code",
   "execution_count": 164,
   "metadata": {},
   "outputs": [],
   "source": [
    "data.drop(columns={\"EDUCATION\"},inplace=True)"
   ]
  },
  {
   "cell_type": "code",
   "execution_count": 165,
   "metadata": {
    "scrolled": false
   },
   "outputs": [
    {
     "name": "stdout",
     "output_type": "stream",
     "text": [
      "<class 'pandas.core.frame.DataFrame'>\n",
      "Int64Index: 103724 entries, 2 to 267032\n",
      "Data columns (total 53 columns):\n",
      "size(Kb)               103724 non-null float64\n",
      "Minimum Version        103724 non-null int64\n",
      "Installs               103724 non-null int64\n",
      "Reviews                103724 non-null int64\n",
      "Rating                 103724 non-null float64\n",
      "TOOLS                  103724 non-null int32\n",
      "BOOKS_AND_REFERENCE    103724 non-null int32\n",
      "ENTERTAINMENT          103724 non-null int32\n",
      "MUSIC_AND_AUDIO        103724 non-null int32\n",
      "LIFESTYLE              103724 non-null int32\n",
      "FINANCE                103724 non-null int32\n",
      "PERSONALIZATION        103724 non-null int32\n",
      "PHOTOGRAPHY            103724 non-null int32\n",
      "PRODUCTIVITY           103724 non-null int32\n",
      "BUSINESS               103724 non-null int32\n",
      "HEALTH_AND_FITNESS     103724 non-null int32\n",
      "NEWS_AND_MAGAZINES     103724 non-null int32\n",
      "TRAVEL_AND_LOCAL       103724 non-null int32\n",
      "SHOPPING               103724 non-null int32\n",
      "SPORTS                 103724 non-null int32\n",
      "COMMUNICATION          103724 non-null int32\n",
      "MAPS_AND_NAVIGATION    103724 non-null int32\n",
      "GAME_PUZZLE            103724 non-null int32\n",
      "VIDEO_PLAYERS          103724 non-null int32\n",
      "GAME_CASUAL            103724 non-null int32\n",
      "MEDICAL                103724 non-null int32\n",
      "FOOD_AND_DRINK         103724 non-null int32\n",
      "SOCIAL                 103724 non-null int32\n",
      "WEATHER                103724 non-null int32\n",
      "GAME_ARCADE            103724 non-null int32\n",
      "GAME_EDUCATIONAL       103724 non-null int32\n",
      "GAME_SIMULATION        103724 non-null int32\n",
      "AUTO_AND_VEHICLES      103724 non-null int32\n",
      "ART_AND_DESIGN         103724 non-null int32\n",
      "GAME_WORD              103724 non-null int32\n",
      "GAME_CARD              103724 non-null int32\n",
      "GAME_SPORTS            103724 non-null int32\n",
      "GAME_RACING            103724 non-null int32\n",
      "GAME_BOARD             103724 non-null int32\n",
      "GAME_TRIVIA            103724 non-null int32\n",
      "GAME_ACTION            103724 non-null int32\n",
      "HOUSE_AND_HOME         103724 non-null int32\n",
      "BEAUTY                 103724 non-null int32\n",
      "PARENTING              103724 non-null int32\n",
      "GAME_ADVENTURE         103724 non-null int32\n",
      "LIBRARIES_AND_DEMO     103724 non-null int32\n",
      "GAME_ROLE_PLAYING      103724 non-null int32\n",
      "GAME_STRATEGY          103724 non-null int32\n",
      "COMICS                 103724 non-null int32\n",
      "GAME_MUSIC             103724 non-null int32\n",
      "EVENTS                 103724 non-null int32\n",
      "DATING                 103724 non-null int32\n",
      "GAME_CASINO            103724 non-null int32\n",
      "dtypes: float64(2), int32(48), int64(3)\n",
      "memory usage: 23.7 MB\n"
     ]
    }
   ],
   "source": [
    "data.info()"
   ]
  },
  {
   "cell_type": "code",
   "execution_count": 166,
   "metadata": {},
   "outputs": [
    {
     "data": {
      "text/plain": [
       "(103724, 53)"
      ]
     },
     "execution_count": 166,
     "metadata": {},
     "output_type": "execute_result"
    }
   ],
   "source": [
    "data.shape"
   ]
  },
  {
   "cell_type": "markdown",
   "metadata": {},
   "source": [
    "# NOW OUR DATABASE IS READY TO BE USED BY MACHINE LEARNING ALGORITHMS"
   ]
  },
  {
   "cell_type": "code",
   "execution_count": 167,
   "metadata": {},
   "outputs": [],
   "source": [
    "# As we are going to predict the value of rating of a given application we will now divide\n",
    "# the data for training and then divide the data for train and test. "
   ]
  },
  {
   "cell_type": "code",
   "execution_count": 168,
   "metadata": {},
   "outputs": [
    {
     "data": {
      "text/html": [
       "<div>\n",
       "<style scoped>\n",
       "    .dataframe tbody tr th:only-of-type {\n",
       "        vertical-align: middle;\n",
       "    }\n",
       "\n",
       "    .dataframe tbody tr th {\n",
       "        vertical-align: top;\n",
       "    }\n",
       "\n",
       "    .dataframe thead th {\n",
       "        text-align: right;\n",
       "    }\n",
       "</style>\n",
       "<table border=\"1\" class=\"dataframe\">\n",
       "  <thead>\n",
       "    <tr style=\"text-align: right;\">\n",
       "      <th></th>\n",
       "      <th>size(Kb)</th>\n",
       "      <th>Minimum Version</th>\n",
       "      <th>Installs</th>\n",
       "      <th>Reviews</th>\n",
       "      <th>Rating</th>\n",
       "      <th>TOOLS</th>\n",
       "      <th>BOOKS_AND_REFERENCE</th>\n",
       "      <th>ENTERTAINMENT</th>\n",
       "      <th>MUSIC_AND_AUDIO</th>\n",
       "      <th>LIFESTYLE</th>\n",
       "      <th>...</th>\n",
       "      <th>PARENTING</th>\n",
       "      <th>GAME_ADVENTURE</th>\n",
       "      <th>LIBRARIES_AND_DEMO</th>\n",
       "      <th>GAME_ROLE_PLAYING</th>\n",
       "      <th>GAME_STRATEGY</th>\n",
       "      <th>COMICS</th>\n",
       "      <th>GAME_MUSIC</th>\n",
       "      <th>EVENTS</th>\n",
       "      <th>DATING</th>\n",
       "      <th>GAME_CASINO</th>\n",
       "    </tr>\n",
       "  </thead>\n",
       "  <tbody>\n",
       "    <tr>\n",
       "      <th>2</th>\n",
       "      <td>1433.6</td>\n",
       "      <td>5</td>\n",
       "      <td>100000</td>\n",
       "      <td>1967</td>\n",
       "      <td>3.6563</td>\n",
       "      <td>0</td>\n",
       "      <td>0</td>\n",
       "      <td>0</td>\n",
       "      <td>0</td>\n",
       "      <td>0</td>\n",
       "      <td>...</td>\n",
       "      <td>0</td>\n",
       "      <td>0</td>\n",
       "      <td>0</td>\n",
       "      <td>0</td>\n",
       "      <td>0</td>\n",
       "      <td>0</td>\n",
       "      <td>0</td>\n",
       "      <td>0</td>\n",
       "      <td>0</td>\n",
       "      <td>0</td>\n",
       "    </tr>\n",
       "    <tr>\n",
       "      <th>3</th>\n",
       "      <td>16384.0</td>\n",
       "      <td>4</td>\n",
       "      <td>10000000</td>\n",
       "      <td>389154</td>\n",
       "      <td>4.1072</td>\n",
       "      <td>0</td>\n",
       "      <td>0</td>\n",
       "      <td>0</td>\n",
       "      <td>0</td>\n",
       "      <td>0</td>\n",
       "      <td>...</td>\n",
       "      <td>0</td>\n",
       "      <td>0</td>\n",
       "      <td>0</td>\n",
       "      <td>0</td>\n",
       "      <td>0</td>\n",
       "      <td>0</td>\n",
       "      <td>0</td>\n",
       "      <td>0</td>\n",
       "      <td>0</td>\n",
       "      <td>0</td>\n",
       "    </tr>\n",
       "    <tr>\n",
       "      <th>5</th>\n",
       "      <td>23552.0</td>\n",
       "      <td>5</td>\n",
       "      <td>100000</td>\n",
       "      <td>2559</td>\n",
       "      <td>3.8253</td>\n",
       "      <td>0</td>\n",
       "      <td>0</td>\n",
       "      <td>0</td>\n",
       "      <td>0</td>\n",
       "      <td>0</td>\n",
       "      <td>...</td>\n",
       "      <td>0</td>\n",
       "      <td>0</td>\n",
       "      <td>0</td>\n",
       "      <td>0</td>\n",
       "      <td>0</td>\n",
       "      <td>0</td>\n",
       "      <td>0</td>\n",
       "      <td>0</td>\n",
       "      <td>0</td>\n",
       "      <td>0</td>\n",
       "    </tr>\n",
       "    <tr>\n",
       "      <th>12</th>\n",
       "      <td>39936.0</td>\n",
       "      <td>5</td>\n",
       "      <td>100000</td>\n",
       "      <td>754</td>\n",
       "      <td>3.2135</td>\n",
       "      <td>0</td>\n",
       "      <td>0</td>\n",
       "      <td>0</td>\n",
       "      <td>0</td>\n",
       "      <td>1</td>\n",
       "      <td>...</td>\n",
       "      <td>0</td>\n",
       "      <td>0</td>\n",
       "      <td>0</td>\n",
       "      <td>0</td>\n",
       "      <td>0</td>\n",
       "      <td>0</td>\n",
       "      <td>0</td>\n",
       "      <td>0</td>\n",
       "      <td>0</td>\n",
       "      <td>0</td>\n",
       "    </tr>\n",
       "    <tr>\n",
       "      <th>13</th>\n",
       "      <td>8294.4</td>\n",
       "      <td>4</td>\n",
       "      <td>100000</td>\n",
       "      <td>287</td>\n",
       "      <td>4.1603</td>\n",
       "      <td>0</td>\n",
       "      <td>0</td>\n",
       "      <td>0</td>\n",
       "      <td>0</td>\n",
       "      <td>0</td>\n",
       "      <td>...</td>\n",
       "      <td>0</td>\n",
       "      <td>0</td>\n",
       "      <td>0</td>\n",
       "      <td>0</td>\n",
       "      <td>0</td>\n",
       "      <td>0</td>\n",
       "      <td>0</td>\n",
       "      <td>0</td>\n",
       "      <td>0</td>\n",
       "      <td>0</td>\n",
       "    </tr>\n",
       "  </tbody>\n",
       "</table>\n",
       "<p>5 rows × 53 columns</p>\n",
       "</div>"
      ],
      "text/plain": [
       "    size(Kb)  Minimum Version  Installs  Reviews  Rating  TOOLS  \\\n",
       "2     1433.6                5    100000     1967  3.6563      0   \n",
       "3    16384.0                4  10000000   389154  4.1072      0   \n",
       "5    23552.0                5    100000     2559  3.8253      0   \n",
       "12   39936.0                5    100000      754  3.2135      0   \n",
       "13    8294.4                4    100000      287  4.1603      0   \n",
       "\n",
       "    BOOKS_AND_REFERENCE  ENTERTAINMENT  MUSIC_AND_AUDIO  LIFESTYLE  \\\n",
       "2                     0              0                0          0   \n",
       "3                     0              0                0          0   \n",
       "5                     0              0                0          0   \n",
       "12                    0              0                0          1   \n",
       "13                    0              0                0          0   \n",
       "\n",
       "       ...       PARENTING  GAME_ADVENTURE  LIBRARIES_AND_DEMO  \\\n",
       "2      ...               0               0                   0   \n",
       "3      ...               0               0                   0   \n",
       "5      ...               0               0                   0   \n",
       "12     ...               0               0                   0   \n",
       "13     ...               0               0                   0   \n",
       "\n",
       "    GAME_ROLE_PLAYING  GAME_STRATEGY  COMICS  GAME_MUSIC  EVENTS  DATING  \\\n",
       "2                   0              0       0           0       0       0   \n",
       "3                   0              0       0           0       0       0   \n",
       "5                   0              0       0           0       0       0   \n",
       "12                  0              0       0           0       0       0   \n",
       "13                  0              0       0           0       0       0   \n",
       "\n",
       "    GAME_CASINO  \n",
       "2             0  \n",
       "3             0  \n",
       "5             0  \n",
       "12            0  \n",
       "13            0  \n",
       "\n",
       "[5 rows x 53 columns]"
      ]
     },
     "execution_count": 168,
     "metadata": {},
     "output_type": "execute_result"
    }
   ],
   "source": [
    "data.head()"
   ]
  },
  {
   "cell_type": "code",
   "execution_count": 169,
   "metadata": {},
   "outputs": [
    {
     "data": {
      "text/plain": [
       "(103724, 53)"
      ]
     },
     "execution_count": 169,
     "metadata": {},
     "output_type": "execute_result"
    }
   ],
   "source": [
    "data.shape"
   ]
  },
  {
   "cell_type": "code",
   "execution_count": 170,
   "metadata": {},
   "outputs": [],
   "source": [
    "y = data.iloc[:,4]"
   ]
  },
  {
   "cell_type": "code",
   "execution_count": 171,
   "metadata": {},
   "outputs": [],
   "source": [
    "# Now we will drop the Rating column and take the whole dataframe as x"
   ]
  },
  {
   "cell_type": "code",
   "execution_count": 172,
   "metadata": {},
   "outputs": [],
   "source": [
    "dataframe_for_x = data.drop(columns={\"Rating\"})"
   ]
  },
  {
   "cell_type": "code",
   "execution_count": 173,
   "metadata": {},
   "outputs": [],
   "source": [
    "x = dataframe_for_x.iloc[:,:]"
   ]
  },
  {
   "cell_type": "code",
   "execution_count": 174,
   "metadata": {},
   "outputs": [
    {
     "data": {
      "text/plain": [
       "(103724, 52)"
      ]
     },
     "execution_count": 174,
     "metadata": {},
     "output_type": "execute_result"
    }
   ],
   "source": [
    "x.shape"
   ]
  },
  {
   "cell_type": "code",
   "execution_count": 175,
   "metadata": {},
   "outputs": [
    {
     "data": {
      "text/plain": [
       "(103724,)"
      ]
     },
     "execution_count": 175,
     "metadata": {},
     "output_type": "execute_result"
    }
   ],
   "source": [
    "y.shape"
   ]
  },
  {
   "cell_type": "code",
   "execution_count": 176,
   "metadata": {},
   "outputs": [],
   "source": [
    "# Now we will devide the above data into train data and test data train_test_split function."
   ]
  },
  {
   "cell_type": "code",
   "execution_count": 177,
   "metadata": {},
   "outputs": [],
   "source": [
    "from sklearn.model_selection import train_test_split\n",
    "x_train,x_test,y_train,y_test = train_test_split(x,y,test_size=0.2,random_state = 7)"
   ]
  },
  {
   "cell_type": "code",
   "execution_count": 178,
   "metadata": {},
   "outputs": [],
   "source": [
    "# Now we will be using this data into various Regression Algorithms."
   ]
  },
  {
   "cell_type": "markdown",
   "metadata": {},
   "source": [
    "# LinearRegression"
   ]
  },
  {
   "cell_type": "code",
   "execution_count": 179,
   "metadata": {},
   "outputs": [],
   "source": [
    "from sklearn.linear_model import LinearRegression\n",
    "regressor = LinearRegression()"
   ]
  },
  {
   "cell_type": "code",
   "execution_count": 180,
   "metadata": {},
   "outputs": [
    {
     "data": {
      "text/plain": [
       "LinearRegression(copy_X=True, fit_intercept=True, n_jobs=None,\n",
       "         normalize=False)"
      ]
     },
     "execution_count": 180,
     "metadata": {},
     "output_type": "execute_result"
    }
   ],
   "source": [
    "regressor.fit(x_train,y_train)"
   ]
  },
  {
   "cell_type": "code",
   "execution_count": 181,
   "metadata": {},
   "outputs": [],
   "source": [
    "y_pred = regressor.predict(x_test)"
   ]
  },
  {
   "cell_type": "code",
   "execution_count": 182,
   "metadata": {},
   "outputs": [],
   "source": [
    "from  sklearn.metrics import r2_score"
   ]
  },
  {
   "cell_type": "code",
   "execution_count": 183,
   "metadata": {},
   "outputs": [
    {
     "data": {
      "text/plain": [
       "0.09999534110116248"
      ]
     },
     "execution_count": 183,
     "metadata": {},
     "output_type": "execute_result"
    }
   ],
   "source": [
    "r2_score(y_test,y_pred)"
   ]
  },
  {
   "cell_type": "code",
   "execution_count": null,
   "metadata": {},
   "outputs": [],
   "source": []
  },
  {
   "cell_type": "markdown",
   "metadata": {},
   "source": [
    "# LinearRegression with whole number Rating"
   ]
  },
  {
   "cell_type": "code",
   "execution_count": 184,
   "metadata": {},
   "outputs": [],
   "source": [
    "y_whole = round(y)"
   ]
  },
  {
   "cell_type": "code",
   "execution_count": 185,
   "metadata": {},
   "outputs": [],
   "source": [
    "x_whole_train,x_whole_test,y_whole_train,y_whole_test = train_test_split(x,y_whole,test_size=0.2,random_state = 7)"
   ]
  },
  {
   "cell_type": "code",
   "execution_count": 186,
   "metadata": {},
   "outputs": [
    {
     "data": {
      "text/plain": [
       "LinearRegression(copy_X=True, fit_intercept=True, n_jobs=None,\n",
       "         normalize=False)"
      ]
     },
     "execution_count": 186,
     "metadata": {},
     "output_type": "execute_result"
    }
   ],
   "source": [
    "regressor.fit(x_whole_train,y_whole_train)"
   ]
  },
  {
   "cell_type": "code",
   "execution_count": 187,
   "metadata": {},
   "outputs": [],
   "source": [
    "y_whole_LR_pred = regressor.predict(x_whole_test)"
   ]
  },
  {
   "cell_type": "code",
   "execution_count": 188,
   "metadata": {},
   "outputs": [
    {
     "data": {
      "text/plain": [
       "0.08801338726770713"
      ]
     },
     "execution_count": 188,
     "metadata": {},
     "output_type": "execute_result"
    }
   ],
   "source": [
    "r2_score(y_whole_test,y_whole_LR_pred)"
   ]
  },
  {
   "cell_type": "code",
   "execution_count": null,
   "metadata": {},
   "outputs": [],
   "source": []
  },
  {
   "cell_type": "markdown",
   "metadata": {},
   "source": [
    "# RandomForestRegressor"
   ]
  },
  {
   "cell_type": "code",
   "execution_count": 189,
   "metadata": {},
   "outputs": [],
   "source": [
    "from sklearn.ensemble import RandomForestRegressor\n",
    "regressor1=RandomForestRegressor(n_estimators=100,max_features=3,min_samples_leaf=10)"
   ]
  },
  {
   "cell_type": "code",
   "execution_count": 190,
   "metadata": {},
   "outputs": [
    {
     "data": {
      "text/plain": [
       "RandomForestRegressor(bootstrap=True, criterion='mse', max_depth=None,\n",
       "           max_features=3, max_leaf_nodes=None, min_impurity_decrease=0.0,\n",
       "           min_impurity_split=None, min_samples_leaf=10,\n",
       "           min_samples_split=2, min_weight_fraction_leaf=0.0,\n",
       "           n_estimators=100, n_jobs=None, oob_score=False,\n",
       "           random_state=None, verbose=0, warm_start=False)"
      ]
     },
     "execution_count": 190,
     "metadata": {},
     "output_type": "execute_result"
    }
   ],
   "source": [
    "regressor1.fit(x_train,y_train)"
   ]
  },
  {
   "cell_type": "code",
   "execution_count": 191,
   "metadata": {},
   "outputs": [],
   "source": [
    "y_RFR_pred=regressor1.predict(x_test)"
   ]
  },
  {
   "cell_type": "code",
   "execution_count": 192,
   "metadata": {},
   "outputs": [
    {
     "data": {
      "text/plain": [
       "0.18191259322800502"
      ]
     },
     "execution_count": 192,
     "metadata": {},
     "output_type": "execute_result"
    }
   ],
   "source": [
    "r2_score(y_test,y_RFR_pred)"
   ]
  },
  {
   "cell_type": "code",
   "execution_count": null,
   "metadata": {},
   "outputs": [],
   "source": []
  },
  {
   "cell_type": "markdown",
   "metadata": {},
   "source": [
    "# RandomForestRegressor with whole number Rating"
   ]
  },
  {
   "cell_type": "code",
   "execution_count": 193,
   "metadata": {},
   "outputs": [
    {
     "data": {
      "text/plain": [
       "RandomForestRegressor(bootstrap=True, criterion='mse', max_depth=None,\n",
       "           max_features=3, max_leaf_nodes=None, min_impurity_decrease=0.0,\n",
       "           min_impurity_split=None, min_samples_leaf=10,\n",
       "           min_samples_split=2, min_weight_fraction_leaf=0.0,\n",
       "           n_estimators=100, n_jobs=None, oob_score=False,\n",
       "           random_state=None, verbose=0, warm_start=False)"
      ]
     },
     "execution_count": 193,
     "metadata": {},
     "output_type": "execute_result"
    }
   ],
   "source": [
    "regressor1.fit(x_whole_train,y_whole_train)"
   ]
  },
  {
   "cell_type": "code",
   "execution_count": 194,
   "metadata": {},
   "outputs": [],
   "source": [
    "y_RFR_whole_pred=regressor1.predict(x_whole_test)"
   ]
  },
  {
   "cell_type": "code",
   "execution_count": 195,
   "metadata": {},
   "outputs": [
    {
     "data": {
      "text/plain": [
       "0.17805705147115714"
      ]
     },
     "execution_count": 195,
     "metadata": {},
     "output_type": "execute_result"
    }
   ],
   "source": [
    "r2_score(y_test,y_RFR_whole_pred)"
   ]
  },
  {
   "cell_type": "code",
   "execution_count": null,
   "metadata": {},
   "outputs": [],
   "source": []
  },
  {
   "cell_type": "markdown",
   "metadata": {},
   "source": [
    "# DecisionTreeRegressor"
   ]
  },
  {
   "cell_type": "code",
   "execution_count": 196,
   "metadata": {},
   "outputs": [],
   "source": [
    "from sklearn.tree import DecisionTreeRegressor\n",
    "regressor2=DecisionTreeRegressor()"
   ]
  },
  {
   "cell_type": "code",
   "execution_count": 197,
   "metadata": {},
   "outputs": [
    {
     "data": {
      "text/plain": [
       "DecisionTreeRegressor(criterion='mse', max_depth=None, max_features=None,\n",
       "           max_leaf_nodes=None, min_impurity_decrease=0.0,\n",
       "           min_impurity_split=None, min_samples_leaf=1,\n",
       "           min_samples_split=2, min_weight_fraction_leaf=0.0,\n",
       "           presort=False, random_state=None, splitter='best')"
      ]
     },
     "execution_count": 197,
     "metadata": {},
     "output_type": "execute_result"
    }
   ],
   "source": [
    "regressor2.fit(x_train,y_train)"
   ]
  },
  {
   "cell_type": "code",
   "execution_count": 198,
   "metadata": {},
   "outputs": [],
   "source": [
    "y_DTR_pred=regressor2.predict(x_test)"
   ]
  },
  {
   "cell_type": "code",
   "execution_count": 199,
   "metadata": {},
   "outputs": [
    {
     "data": {
      "text/plain": [
       "-0.6204247017161872"
      ]
     },
     "execution_count": 199,
     "metadata": {},
     "output_type": "execute_result"
    }
   ],
   "source": [
    "r2_score(y_test,y_DTR_pred)"
   ]
  },
  {
   "cell_type": "code",
   "execution_count": null,
   "metadata": {},
   "outputs": [],
   "source": []
  },
  {
   "cell_type": "code",
   "execution_count": null,
   "metadata": {},
   "outputs": [],
   "source": []
  },
  {
   "cell_type": "code",
   "execution_count": null,
   "metadata": {},
   "outputs": [],
   "source": []
  },
  {
   "cell_type": "markdown",
   "metadata": {},
   "source": [
    "# DecisionTreeClassifier"
   ]
  },
  {
   "cell_type": "code",
   "execution_count": 200,
   "metadata": {},
   "outputs": [],
   "source": [
    "# Here we are using Classification because if we can convert the rating into the\n",
    "# whole number then we can classify the applications in 5 categories as 1*,2*,3*,4*,5*.\n",
    "# usine this idea we will be using DecisionTreeClassifier algorithm."
   ]
  },
  {
   "cell_type": "code",
   "execution_count": 201,
   "metadata": {},
   "outputs": [
    {
     "data": {
      "text/plain": [
       "DecisionTreeClassifier(class_weight=None, criterion='gini', max_depth=None,\n",
       "            max_features=None, max_leaf_nodes=None,\n",
       "            min_impurity_decrease=0.0, min_impurity_split=None,\n",
       "            min_samples_leaf=1, min_samples_split=2,\n",
       "            min_weight_fraction_leaf=0.0, presort=False, random_state=None,\n",
       "            splitter='best')"
      ]
     },
     "execution_count": 201,
     "metadata": {},
     "output_type": "execute_result"
    }
   ],
   "source": [
    "from sklearn.tree import DecisionTreeClassifier\n",
    "classifier = DecisionTreeClassifier()\n",
    "classifier.fit(x_whole_train,y_whole_train)"
   ]
  },
  {
   "cell_type": "code",
   "execution_count": 202,
   "metadata": {},
   "outputs": [],
   "source": [
    "y_dtc_pred = classifier.predict(x_whole_test)"
   ]
  },
  {
   "cell_type": "code",
   "execution_count": 203,
   "metadata": {},
   "outputs": [
    {
     "data": {
      "text/plain": [
       "0.5531453362255966"
      ]
     },
     "execution_count": 203,
     "metadata": {},
     "output_type": "execute_result"
    }
   ],
   "source": [
    "from sklearn.metrics import accuracy_score\n",
    "accuracy_score(y_whole_test,y_dtc_pred)"
   ]
  },
  {
   "cell_type": "code",
   "execution_count": null,
   "metadata": {},
   "outputs": [],
   "source": []
  },
  {
   "cell_type": "code",
   "execution_count": null,
   "metadata": {},
   "outputs": [],
   "source": []
  },
  {
   "cell_type": "code",
   "execution_count": null,
   "metadata": {},
   "outputs": [],
   "source": []
  },
  {
   "cell_type": "code",
   "execution_count": null,
   "metadata": {},
   "outputs": [],
   "source": []
  },
  {
   "cell_type": "code",
   "execution_count": null,
   "metadata": {},
   "outputs": [],
   "source": []
  },
  {
   "cell_type": "code",
   "execution_count": 204,
   "metadata": {},
   "outputs": [
    {
     "name": "stdout",
     "output_type": "stream",
     "text": [
      "2019-07-21 21:48:07.520815\n"
     ]
    }
   ],
   "source": [
    "from datetime import date\n",
    "from datetime import time\n",
    "from datetime import datetime\n",
    "\n",
    "print(datetime.now())"
   ]
  },
  {
   "cell_type": "code",
   "execution_count": null,
   "metadata": {},
   "outputs": [],
   "source": []
  }
 ],
 "metadata": {
  "kernelspec": {
   "display_name": "Python 3",
   "language": "python",
   "name": "python3"
  },
  "language_info": {
   "codemirror_mode": {
    "name": "ipython",
    "version": 3
   },
   "file_extension": ".py",
   "mimetype": "text/x-python",
   "name": "python",
   "nbconvert_exporter": "python",
   "pygments_lexer": "ipython3",
   "version": "3.7.1"
  }
 },
 "nbformat": 4,
 "nbformat_minor": 2
}
